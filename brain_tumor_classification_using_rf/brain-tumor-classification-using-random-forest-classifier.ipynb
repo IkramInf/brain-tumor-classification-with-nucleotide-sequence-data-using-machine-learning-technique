{
 "cells": [
  {
   "cell_type": "markdown",
   "id": "b518b98c",
   "metadata": {},
   "source": [
    "# Brain Tumor Classification with Nucleotide Sequence Data Using Random Forest Classifier"
   ]
  },
  {
   "cell_type": "markdown",
   "id": "65e53343",
   "metadata": {},
   "source": [
    "## 0.  Import Required Libraries and Modules"
   ]
  },
  {
   "cell_type": "code",
   "execution_count": 1,
   "id": "a35343e7",
   "metadata": {
    "execution": {
     "iopub.execute_input": "2023-03-19T16:51:57.877085Z",
     "iopub.status.busy": "2023-03-19T16:51:57.876398Z",
     "iopub.status.idle": "2023-03-19T16:51:58.970122Z",
     "shell.execute_reply": "2023-03-19T16:51:58.968891Z",
     "shell.execute_reply.started": "2023-03-19T16:51:57.877045Z"
    },
    "papermill": {
     "duration": 0.191641,
     "end_time": "2022-07-03T08:51:44.408480",
     "exception": false,
     "start_time": "2022-07-03T08:51:44.216839",
     "status": "completed"
    },
    "tags": []
   },
   "outputs": [],
   "source": [
    "# python fundamental libraries\n",
    "import re\n",
    "import glob\n",
    "\n",
    "# for data processing\n",
    "import numpy as np  # for arithmatic calculations\n",
    "import pandas as pd # handling data with dataframe\n",
    "import matplotlib.pyplot as plt  # plotting\n",
    "from Bio.Seq import Seq, translate  # to deal with biological sequence\n",
    "from Bio import SeqIO, pairwise2\n",
    "from Bio.SeqUtils.ProtParam import ProteinAnalysis\n",
    "from Bio.SeqUtils import GC, molecular_weight, MeltingTemp\n",
    "from sklearn.preprocessing import LabelEncoder  # string to numeric encoding\n",
    "from sklearn.model_selection import train_test_split  # splitting data\n",
    "from sklearn.decomposition import PCA  # dimensionality reduction\n",
    "from sklearn.feature_extraction.text import TfidfVectorizer  # encoding\n",
    "\n",
    "# building model\n",
    "from sklearn.ensemble import RandomForestClassifier\n",
    "\n",
    "# Evaluating model\n",
    "from sklearn.metrics import accuracy_score, precision_score, recall_score, f1_score\n",
    "from sklearn.metrics import confusion_matrix, ConfusionMatrixDisplay\n",
    "from sklearn.metrics import classification_report"
   ]
  },
  {
   "cell_type": "code",
   "execution_count": null,
   "id": "b41ef3c1",
   "metadata": {},
   "outputs": [],
   "source": []
  },
  {
   "cell_type": "markdown",
   "id": "cb3c76cb",
   "metadata": {},
   "source": [
    "## 1.  Collection of Data\n",
    "\n",
    "Source: National Center for Biotechnology Information (NCBI)  <br>\n",
    "Url: https://www.ncbi.nlm.nih.gov/  <br>\n",
    "\n",
    "__Types of Tumor with search keyword in NCBI:__  <br>\n",
    " [i] Metastatic: (Metastatic) AND \"Homo sapiens\"[porgn:__txid9606]  <br>\n",
    " [ii] Glioblastoma: (Glioblastoma) AND \"Homo sapiens\"[porgn:__txid9606]  <br>\n",
    " [iii] Astrocytoma: (Astrocytoma) AND \"Homo sapiens\"[porgn:__txid9606]  <br>"
   ]
  },
  {
   "cell_type": "code",
   "execution_count": 2,
   "id": "a27b7dc5",
   "metadata": {
    "execution": {
     "iopub.execute_input": "2023-03-19T16:51:59.012575Z",
     "iopub.status.busy": "2023-03-19T16:51:59.011410Z",
     "iopub.status.idle": "2023-03-19T16:51:59.024820Z",
     "shell.execute_reply": "2023-03-19T16:51:59.023719Z",
     "shell.execute_reply.started": "2023-03-19T16:51:59.012530Z"
    }
   },
   "outputs": [
    {
     "name": "stdout",
     "output_type": "stream",
     "text": [
      "Brain Tumor Fasta File Names:\n",
      "\tAstrocytoma.fasta\n",
      "\tGlioblastoma.fasta\n",
      "\tMetastatic.fasta\n"
     ]
    }
   ],
   "source": [
    "root_dir = \"sequences/\"\n",
    "fnames = glob.glob(root_dir+\"*.fasta\")\n",
    "\n",
    "print(\"Brain Tumor Fasta File Names:\")\n",
    "for fname in fnames:\n",
    "    print(\"\\t\" + fname.split(\"/\")[-1])"
   ]
  },
  {
   "cell_type": "code",
   "execution_count": null,
   "id": "eff0c539",
   "metadata": {},
   "outputs": [],
   "source": []
  },
  {
   "cell_type": "markdown",
   "id": "030b8ea2",
   "metadata": {},
   "source": [
    "## 2.  Data Preprocessing"
   ]
  },
  {
   "cell_type": "markdown",
   "id": "a65eaf39",
   "metadata": {},
   "source": [
    "### 2.1  Read Fasta and Convert into Dataframe"
   ]
  },
  {
   "cell_type": "code",
   "execution_count": 3,
   "id": "552a09b1",
   "metadata": {},
   "outputs": [],
   "source": [
    "sequences = {}\n",
    "frequency = {}\n",
    "for fname in fnames:\n",
    "    tumor = [str(record.seq.lower()) for record in SeqIO.parse(fname, 'fasta')]\n",
    "    no_of_seq = len(tumor)\n",
    "    tumor_name = fname.split(\"/\")[-1].split(\".fa\")[0]\n",
    "    sequences[tumor_name] = sorted(tumor, key=len)\n",
    "    frequency[tumor_name] = no_of_seq"
   ]
  },
  {
   "cell_type": "code",
   "execution_count": 4,
   "id": "de56621d",
   "metadata": {},
   "outputs": [
    {
     "name": "stdout",
     "output_type": "stream",
     "text": [
      "Astrocytoma : 3538\n",
      "Glioblastoma : 5655\n",
      "Metastatic : 7127\n",
      "Total Sequences: 16320\n"
     ]
    }
   ],
   "source": [
    "total = 0\n",
    "for tumor_name, no_of_seq in frequency.items():\n",
    "    print(f\"{tumor_name} : {no_of_seq}\")\n",
    "    total += no_of_seq\n",
    "print(f\"Total Sequences: {total}\")"
   ]
  },
  {
   "cell_type": "code",
   "execution_count": 5,
   "id": "47981d69",
   "metadata": {},
   "outputs": [
    {
     "name": "stdout",
     "output_type": "stream",
     "text": [
      "{'Astrocytoma': 0, 'Glioblastoma': 1, 'Metastatic': 2}\n"
     ]
    }
   ],
   "source": [
    "tumors = list(frequency.keys())\n",
    "label = LabelEncoder()\n",
    "labels = label.fit_transform(tumors)\n",
    "label_dict = {i:j for i, j in zip(label.classes_, labels)}\n",
    "print(label_dict)"
   ]
  },
  {
   "cell_type": "code",
   "execution_count": 6,
   "id": "aa9be202",
   "metadata": {},
   "outputs": [],
   "source": [
    "tumor_sequences = []\n",
    "classes = []\n",
    "for tumor in tumors:\n",
    "    tumor_sequences.extend(sequences[tumor])\n",
    "    classes.extend([label_dict[tumor]]*frequency[tumor])"
   ]
  },
  {
   "cell_type": "code",
   "execution_count": 7,
   "id": "513aa66d",
   "metadata": {},
   "outputs": [
    {
     "data": {
      "text/html": [
       "<div>\n",
       "<style scoped>\n",
       "    .dataframe tbody tr th:only-of-type {\n",
       "        vertical-align: middle;\n",
       "    }\n",
       "\n",
       "    .dataframe tbody tr th {\n",
       "        vertical-align: top;\n",
       "    }\n",
       "\n",
       "    .dataframe thead th {\n",
       "        text-align: right;\n",
       "    }\n",
       "</style>\n",
       "<table border=\"1\" class=\"dataframe\">\n",
       "  <thead>\n",
       "    <tr style=\"text-align: right;\">\n",
       "      <th></th>\n",
       "      <th>sequences</th>\n",
       "      <th>class</th>\n",
       "    </tr>\n",
       "  </thead>\n",
       "  <tbody>\n",
       "    <tr>\n",
       "      <th>0</th>\n",
       "      <td>ccccccaccaccacca</td>\n",
       "      <td>0</td>\n",
       "    </tr>\n",
       "    <tr>\n",
       "      <th>1</th>\n",
       "      <td>aggcccacccggcccc</td>\n",
       "      <td>0</td>\n",
       "    </tr>\n",
       "    <tr>\n",
       "      <th>2</th>\n",
       "      <td>ccccccaccaccacca</td>\n",
       "      <td>0</td>\n",
       "    </tr>\n",
       "    <tr>\n",
       "      <th>3</th>\n",
       "      <td>aggcccacccggcccc</td>\n",
       "      <td>0</td>\n",
       "    </tr>\n",
       "    <tr>\n",
       "      <th>4</th>\n",
       "      <td>ccgggggggcccccggggg</td>\n",
       "      <td>0</td>\n",
       "    </tr>\n",
       "  </tbody>\n",
       "</table>\n",
       "</div>"
      ],
      "text/plain": [
       "             sequences  class\n",
       "0     ccccccaccaccacca      0\n",
       "1     aggcccacccggcccc      0\n",
       "2     ccccccaccaccacca      0\n",
       "3     aggcccacccggcccc      0\n",
       "4  ccgggggggcccccggggg      0"
      ]
     },
     "execution_count": 7,
     "metadata": {},
     "output_type": "execute_result"
    }
   ],
   "source": [
    "tumor_data = {'sequences': tumor_sequences, 'class': classes}\n",
    "tumor_data = pd.DataFrame.from_dict(tumor_data)\n",
    "tumor_data.head()"
   ]
  },
  {
   "cell_type": "code",
   "execution_count": null,
   "id": "8b1bd341",
   "metadata": {},
   "outputs": [],
   "source": []
  },
  {
   "cell_type": "markdown",
   "id": "aa005b62",
   "metadata": {},
   "source": [
    "### 2.2  Feature Extraction"
   ]
  },
  {
   "cell_type": "markdown",
   "id": "dc6c8864",
   "metadata": {},
   "source": [
    "#### 2.2.1  Extraction of k-mer"
   ]
  },
  {
   "cell_type": "code",
   "execution_count": 8,
   "id": "84181e56",
   "metadata": {
    "execution": {
     "iopub.execute_input": "2023-03-19T16:51:59.026561Z",
     "iopub.status.busy": "2023-03-19T16:51:59.026176Z",
     "iopub.status.idle": "2023-03-19T16:51:59.033563Z",
     "shell.execute_reply": "2023-03-19T16:51:59.032109Z",
     "shell.execute_reply.started": "2023-03-19T16:51:59.026527Z"
    }
   },
   "outputs": [],
   "source": [
    "def kmers(sequence, size=5):\n",
    "    return \" \".join([sequence[x:x+size] for x in range(len(sequence) - size + 1)])"
   ]
  },
  {
   "cell_type": "code",
   "execution_count": 9,
   "id": "9283f49e",
   "metadata": {},
   "outputs": [
    {
     "data": {
      "text/plain": [
       "'ATCGGC TCGGCT CGGCTA GGCTAG GCTAGC CTAGCT TAGCTA AGCTAG GCTAGG CTAGGA TAGGAT AGGATC GGATCG'"
      ]
     },
     "execution_count": 9,
     "metadata": {},
     "output_type": "execute_result"
    }
   ],
   "source": [
    "kmers(\"ATCGGCTAGCTAGGATCG\", 6)"
   ]
  },
  {
   "cell_type": "code",
   "execution_count": 10,
   "id": "7bbcda44",
   "metadata": {},
   "outputs": [],
   "source": [
    "tumor_data[\"kmers\"] = tumor_data[\"sequences\"].apply(kmers)"
   ]
  },
  {
   "cell_type": "markdown",
   "id": "543db461",
   "metadata": {},
   "source": [
    "#### 2.2.2  Extraction of open reading frames (orf)"
   ]
  },
  {
   "cell_type": "code",
   "execution_count": 11,
   "id": "1b7733ba",
   "metadata": {
    "execution": {
     "iopub.execute_input": "2023-03-19T16:51:59.047438Z",
     "iopub.status.busy": "2023-03-19T16:51:59.046925Z",
     "iopub.status.idle": "2023-03-19T16:51:59.054760Z",
     "shell.execute_reply": "2023-03-19T16:51:59.053736Z",
     "shell.execute_reply.started": "2023-03-19T16:51:59.047390Z"
    }
   },
   "outputs": [],
   "source": [
    "def extract_orfs(sequence):\n",
    "    pattern = re.compile(r\"(?:atg)(?:[acgt]{3})*?(?=taa|tag|tga)\", re.I)\n",
    "    return re.findall(pattern, sequence)"
   ]
  },
  {
   "cell_type": "code",
   "execution_count": 12,
   "id": "5d11c4b0",
   "metadata": {},
   "outputs": [
    {
     "data": {
      "text/plain": [
       "['ATGGCTAGC']"
      ]
     },
     "execution_count": 12,
     "metadata": {},
     "output_type": "execute_result"
    }
   ],
   "source": [
    "extract_orfs(\"ATGGCTAGCTAGGATCG\")"
   ]
  },
  {
   "cell_type": "code",
   "execution_count": 13,
   "id": "17214c7c",
   "metadata": {},
   "outputs": [],
   "source": [
    "tumor_data[\"orfs\"] = tumor_data[\"sequences\"].apply(extract_orfs)"
   ]
  },
  {
   "cell_type": "markdown",
   "id": "6141c141",
   "metadata": {},
   "source": [
    "#### 2.2.3  Extraction of nucleotide compositions"
   ]
  },
  {
   "cell_type": "code",
   "execution_count": 14,
   "id": "6eadee11",
   "metadata": {
    "execution": {
     "iopub.execute_input": "2023-03-19T16:51:59.073355Z",
     "iopub.status.busy": "2023-03-19T16:51:59.072242Z",
     "iopub.status.idle": "2023-03-19T16:51:59.079442Z",
     "shell.execute_reply": "2023-03-19T16:51:59.078329Z",
     "shell.execute_reply.started": "2023-03-19T16:51:59.073304Z"
    }
   },
   "outputs": [],
   "source": [
    "def nuc_comp(seq):\n",
    "    seq = seq.upper()\n",
    "    N = len(seq)\n",
    "    return pd.Series([seq.count(\"A\")/N, seq.count(\"C\")/N, seq.count(\"G\")/N, seq.count(\"T\")/N])"
   ]
  },
  {
   "cell_type": "code",
   "execution_count": 15,
   "id": "a93ec6e6",
   "metadata": {},
   "outputs": [
    {
     "data": {
      "text/plain": [
       "0    0.235294\n",
       "1    0.176471\n",
       "2    0.352941\n",
       "3    0.235294\n",
       "dtype: float64"
      ]
     },
     "execution_count": 15,
     "metadata": {},
     "output_type": "execute_result"
    }
   ],
   "source": [
    "nuc_comp(\"ATGGCTAGCTAGGATCG\")"
   ]
  },
  {
   "cell_type": "code",
   "execution_count": 16,
   "id": "ee171597",
   "metadata": {},
   "outputs": [],
   "source": [
    "tumor_data[['As', 'Cs', 'Gs', 'Ts']] = tumor_data[\"sequences\"].apply(nuc_comp)"
   ]
  },
  {
   "cell_type": "markdown",
   "id": "992cf5df",
   "metadata": {},
   "source": [
    "#### 2.2.4  Extraction of di-nucleotide composition"
   ]
  },
  {
   "cell_type": "code",
   "execution_count": 17,
   "id": "bb675698",
   "metadata": {},
   "outputs": [],
   "source": [
    "def di_comp(seq):\n",
    "    seq = seq.upper()\n",
    "    n = 0\n",
    "    #di_nuc = {\"\".join(p) : 0 for p in permutations(\"ACGT\", 2)}\n",
    "    di_nuc = {x+y : 0 for x in \"ACGT\" for y in \"ACGT\"}\n",
    "    for i in range(len(seq)-1):\n",
    "        dimer = seq[i:i+2]\n",
    "        if \"N\" not in dimer:\n",
    "            n += 1\n",
    "            di_nuc[dimer] += 1\n",
    "    di_nuc = {d : c/n for d, c in di_nuc.items()}\n",
    "    di_nuc = dict(sorted(di_nuc.items(), key=lambda x: x[0].lower()))\n",
    "    return pd.Series(list(di_nuc.values()))"
   ]
  },
  {
   "cell_type": "code",
   "execution_count": 18,
   "id": "d68d15a7",
   "metadata": {},
   "outputs": [
    {
     "data": {
      "text/plain": [
       "0     0.0000\n",
       "1     0.0000\n",
       "2     0.1250\n",
       "3     0.1250\n",
       "4     0.0000\n",
       "5     0.0000\n",
       "6     0.0625\n",
       "7     0.1250\n",
       "8     0.0625\n",
       "9     0.1250\n",
       "10    0.1250\n",
       "11    0.0000\n",
       "12    0.1250\n",
       "13    0.0625\n",
       "14    0.0625\n",
       "15    0.0000\n",
       "dtype: float64"
      ]
     },
     "execution_count": 18,
     "metadata": {},
     "output_type": "execute_result"
    }
   ],
   "source": [
    "di_comp(\"ATGGCTAGCTAGGATCG\")"
   ]
  },
  {
   "cell_type": "code",
   "execution_count": 19,
   "id": "3391a910",
   "metadata": {},
   "outputs": [],
   "source": [
    "di_mers = sorted([x+y for x in \"ACGT\" for y in \"ACGT\"])\n",
    "tumor_data[di_mers] = tumor_data[\"sequences\"].apply(di_comp)"
   ]
  },
  {
   "cell_type": "code",
   "execution_count": 20,
   "id": "8a7caec8",
   "metadata": {},
   "outputs": [
    {
     "name": "stdout",
     "output_type": "stream",
     "text": [
      "['AA', 'AC', 'AG', 'AT', 'CA', 'CC', 'CG', 'CT', 'GA', 'GC', 'GG', 'GT', 'TA', 'TC', 'TG', 'TT']\n"
     ]
    }
   ],
   "source": [
    "print(di_mers)"
   ]
  },
  {
   "cell_type": "markdown",
   "id": "2a553d1d",
   "metadata": {},
   "source": [
    "#### 2.2.5  Extraction of tri-nucleotide composition"
   ]
  },
  {
   "cell_type": "code",
   "execution_count": 21,
   "id": "a7ac988e",
   "metadata": {},
   "outputs": [],
   "source": [
    "def tri_comp(seq):\n",
    "    seq = seq.upper()\n",
    "    n = 0\n",
    "    tri_nuc = {x+y+z : 0 for x in \"ACGT\" for y in \"ACGT\" for z in \"ACGT\"}\n",
    "    for i in range(len(seq)-2):\n",
    "        trimer = seq[i:i+3]\n",
    "        if \"N\" not in trimer:\n",
    "            n += 1\n",
    "            tri_nuc[trimer] += 1\n",
    "    tri_nuc = {t : c/n for t, c in tri_nuc.items()}\n",
    "    tri_nuc = dict(sorted(tri_nuc.items(), key=lambda x: x[0].lower()))\n",
    "    return pd.Series(list(tri_nuc.values()))"
   ]
  },
  {
   "cell_type": "code",
   "execution_count": 22,
   "id": "42d82a9f",
   "metadata": {},
   "outputs": [
    {
     "name": "stdout",
     "output_type": "stream",
     "text": [
      "[0.0, 0.0, 0.0, 0.0, 0.0, 0.0, 0.0, 0.0, 0.0, 0.06666666666666667, 0.06666666666666667, 0.0, 0.0, 0.06666666666666667, 0.06666666666666667, 0.0, 0.0, 0.0, 0.0, 0.0, 0.0, 0.0, 0.0, 0.0, 0.0, 0.0, 0.0, 0.0, 0.13333333333333333, 0.0, 0.0, 0.0, 0.0, 0.0, 0.0, 0.06666666666666667, 0.0, 0.0, 0.0, 0.13333333333333333, 0.06666666666666667, 0.06666666666666667, 0.0, 0.0, 0.0, 0.0, 0.0, 0.0, 0.0, 0.0, 0.13333333333333333, 0.0, 0.0, 0.0, 0.06666666666666667, 0.0, 0.0, 0.0, 0.06666666666666667, 0.0, 0.0, 0.0, 0.0, 0.0]\n"
     ]
    }
   ],
   "source": [
    "print(list(tri_comp(\"ATGGCTAGCTAGGATCG\")))"
   ]
  },
  {
   "cell_type": "code",
   "execution_count": 23,
   "id": "f6b346d7",
   "metadata": {},
   "outputs": [],
   "source": [
    "tri_mers = sorted([x+y+z for x in \"ACGT\" for y in \"ACGT\" for z in \"ACGT\"])\n",
    "tumor_data[tri_mers] = tumor_data[\"sequences\"].apply(tri_comp)"
   ]
  },
  {
   "cell_type": "code",
   "execution_count": 24,
   "id": "ee372274",
   "metadata": {},
   "outputs": [
    {
     "name": "stdout",
     "output_type": "stream",
     "text": [
      "['AAA', 'AAC', 'AAG', 'AAT', 'ACA', 'ACC', 'ACG', 'ACT', 'AGA', 'AGC', 'AGG', 'AGT', 'ATA', 'ATC', 'ATG', 'ATT', 'CAA', 'CAC', 'CAG', 'CAT', 'CCA', 'CCC', 'CCG', 'CCT', 'CGA', 'CGC', 'CGG', 'CGT', 'CTA', 'CTC', 'CTG', 'CTT', 'GAA', 'GAC', 'GAG', 'GAT', 'GCA', 'GCC', 'GCG', 'GCT', 'GGA', 'GGC', 'GGG', 'GGT', 'GTA', 'GTC', 'GTG', 'GTT', 'TAA', 'TAC', 'TAG', 'TAT', 'TCA', 'TCC', 'TCG', 'TCT', 'TGA', 'TGC', 'TGG', 'TGT', 'TTA', 'TTC', 'TTG', 'TTT']\n"
     ]
    }
   ],
   "source": [
    "print(tri_mers)"
   ]
  },
  {
   "cell_type": "markdown",
   "id": "1c38274b",
   "metadata": {},
   "source": [
    "#### 2.2.6  Extraction of protein compositions"
   ]
  },
  {
   "cell_type": "code",
   "execution_count": 25,
   "id": "e063660f",
   "metadata": {
    "execution": {
     "iopub.execute_input": "2023-03-19T16:51:59.081833Z",
     "iopub.status.busy": "2023-03-19T16:51:59.080930Z",
     "iopub.status.idle": "2023-03-19T16:51:59.099000Z",
     "shell.execute_reply": "2023-03-19T16:51:59.097660Z",
     "shell.execute_reply.started": "2023-03-19T16:51:59.081784Z"
    }
   },
   "outputs": [],
   "source": [
    "def prot_comp(seq):\n",
    "    seq = seq.upper()\n",
    "    # create a ProteinAnalysis object for the protein sequence\n",
    "    protein_analysis = ProteinAnalysis(seq)\n",
    "    # get the amino acid composition of the protein\n",
    "    if seq:\n",
    "        aa_comp = protein_analysis.get_amino_acids_percent()\n",
    "        return pd.Series(list(dict(sorted(aa_comp.items(), key=lambda x: x[0].lower())).values()))\n",
    "    return pd.Series([0]*20)"
   ]
  },
  {
   "cell_type": "code",
   "execution_count": 26,
   "id": "a156a4b6",
   "metadata": {},
   "outputs": [
    {
     "name": "stdout",
     "output_type": "stream",
     "text": [
      "0     0.086957\n",
      "1     0.173913\n",
      "2     0.130435\n",
      "3     0.043478\n",
      "4     0.065217\n",
      "5     0.108696\n",
      "6     0.000000\n",
      "7     0.000000\n",
      "8     0.000000\n",
      "9     0.065217\n",
      "10    0.043478\n",
      "11    0.021739\n",
      "12    0.065217\n",
      "13    0.065217\n",
      "14    0.021739\n",
      "15    0.043478\n",
      "16    0.021739\n",
      "17    0.043478\n",
      "18    0.000000\n",
      "19    0.000000\n",
      "dtype: float64\n"
     ]
    }
   ],
   "source": [
    "print(prot_comp(\"MAAFCGNMFVEPGEQCDCGFLDDCVDPCCDSLTCQLRPGAQCASDG\"))"
   ]
  },
  {
   "cell_type": "code",
   "execution_count": 27,
   "id": "7b1e4844",
   "metadata": {},
   "outputs": [
    {
     "name": "stderr",
     "output_type": "stream",
     "text": [
      "/home/ikraminf/anaconda3/lib/python3.9/site-packages/Bio/Seq.py:2979: BiopythonWarning: Partial codon, len(sequence) not a multiple of three. Explicitly trim the sequence or add trailing N before translation. This may become an error in future.\n",
      "  warnings.warn(\n",
      "/tmp/ipykernel_4774/1372634742.py:3: PerformanceWarning: DataFrame is highly fragmented.  This is usually the result of calling `frame.insert` many times, which has poor performance.  Consider joining all columns at once using pd.concat(axis=1) instead. To get a de-fragmented frame, use `newframe = frame.copy()`\n",
      "  tumor_data[aa] = tumor_data[\"protein\"].apply(prot_comp)\n",
      "/tmp/ipykernel_4774/1372634742.py:3: PerformanceWarning: DataFrame is highly fragmented.  This is usually the result of calling `frame.insert` many times, which has poor performance.  Consider joining all columns at once using pd.concat(axis=1) instead. To get a de-fragmented frame, use `newframe = frame.copy()`\n",
      "  tumor_data[aa] = tumor_data[\"protein\"].apply(prot_comp)\n",
      "/tmp/ipykernel_4774/1372634742.py:3: PerformanceWarning: DataFrame is highly fragmented.  This is usually the result of calling `frame.insert` many times, which has poor performance.  Consider joining all columns at once using pd.concat(axis=1) instead. To get a de-fragmented frame, use `newframe = frame.copy()`\n",
      "  tumor_data[aa] = tumor_data[\"protein\"].apply(prot_comp)\n",
      "/tmp/ipykernel_4774/1372634742.py:3: PerformanceWarning: DataFrame is highly fragmented.  This is usually the result of calling `frame.insert` many times, which has poor performance.  Consider joining all columns at once using pd.concat(axis=1) instead. To get a de-fragmented frame, use `newframe = frame.copy()`\n",
      "  tumor_data[aa] = tumor_data[\"protein\"].apply(prot_comp)\n",
      "/tmp/ipykernel_4774/1372634742.py:3: PerformanceWarning: DataFrame is highly fragmented.  This is usually the result of calling `frame.insert` many times, which has poor performance.  Consider joining all columns at once using pd.concat(axis=1) instead. To get a de-fragmented frame, use `newframe = frame.copy()`\n",
      "  tumor_data[aa] = tumor_data[\"protein\"].apply(prot_comp)\n",
      "/tmp/ipykernel_4774/1372634742.py:3: PerformanceWarning: DataFrame is highly fragmented.  This is usually the result of calling `frame.insert` many times, which has poor performance.  Consider joining all columns at once using pd.concat(axis=1) instead. To get a de-fragmented frame, use `newframe = frame.copy()`\n",
      "  tumor_data[aa] = tumor_data[\"protein\"].apply(prot_comp)\n",
      "/tmp/ipykernel_4774/1372634742.py:3: PerformanceWarning: DataFrame is highly fragmented.  This is usually the result of calling `frame.insert` many times, which has poor performance.  Consider joining all columns at once using pd.concat(axis=1) instead. To get a de-fragmented frame, use `newframe = frame.copy()`\n",
      "  tumor_data[aa] = tumor_data[\"protein\"].apply(prot_comp)\n",
      "/tmp/ipykernel_4774/1372634742.py:3: PerformanceWarning: DataFrame is highly fragmented.  This is usually the result of calling `frame.insert` many times, which has poor performance.  Consider joining all columns at once using pd.concat(axis=1) instead. To get a de-fragmented frame, use `newframe = frame.copy()`\n",
      "  tumor_data[aa] = tumor_data[\"protein\"].apply(prot_comp)\n",
      "/tmp/ipykernel_4774/1372634742.py:3: PerformanceWarning: DataFrame is highly fragmented.  This is usually the result of calling `frame.insert` many times, which has poor performance.  Consider joining all columns at once using pd.concat(axis=1) instead. To get a de-fragmented frame, use `newframe = frame.copy()`\n",
      "  tumor_data[aa] = tumor_data[\"protein\"].apply(prot_comp)\n"
     ]
    }
   ],
   "source": [
    "tumor_data[\"protein\"] = tumor_data[\"sequences\"].apply(translate)\n",
    "aa = ['A','C','D','E','F','G','H','I','K','L','M','N','P','Q','R','S','T','V','W','Y']\n",
    "tumor_data[aa] = tumor_data[\"protein\"].apply(prot_comp)"
   ]
  },
  {
   "cell_type": "markdown",
   "id": "b4ba1087",
   "metadata": {},
   "source": [
    "#### 2.2.7  Extraction of GC percentage and Melting Temperature"
   ]
  },
  {
   "cell_type": "code",
   "execution_count": 28,
   "id": "0d278e57",
   "metadata": {},
   "outputs": [
    {
     "name": "stderr",
     "output_type": "stream",
     "text": [
      "/tmp/ipykernel_4774/3785024045.py:1: PerformanceWarning: DataFrame is highly fragmented.  This is usually the result of calling `frame.insert` many times, which has poor performance.  Consider joining all columns at once using pd.concat(axis=1) instead. To get a de-fragmented frame, use `newframe = frame.copy()`\n",
      "  tumor_data[\"gc\"] = tumor_data[\"sequences\"].apply(GC)\n",
      "/tmp/ipykernel_4774/3785024045.py:2: PerformanceWarning: DataFrame is highly fragmented.  This is usually the result of calling `frame.insert` many times, which has poor performance.  Consider joining all columns at once using pd.concat(axis=1) instead. To get a de-fragmented frame, use `newframe = frame.copy()`\n",
      "  tumor_data[\"meltT\"] = tumor_data[\"sequences\"].apply(MeltingTemp.Tm_NN)\n"
     ]
    }
   ],
   "source": [
    "tumor_data[\"gc\"] = tumor_data[\"sequences\"].apply(GC)\n",
    "tumor_data[\"meltT\"] = tumor_data[\"sequences\"].apply(MeltingTemp.Tm_NN)"
   ]
  },
  {
   "cell_type": "code",
   "execution_count": 29,
   "id": "2a215acf",
   "metadata": {
    "execution": {
     "iopub.execute_input": "2023-03-19T16:52:23.454997Z",
     "iopub.status.busy": "2023-03-19T16:52:23.454555Z",
     "iopub.status.idle": "2023-03-19T16:52:23.504213Z",
     "shell.execute_reply": "2023-03-19T16:52:23.502977Z",
     "shell.execute_reply.started": "2023-03-19T16:52:23.454948Z"
    }
   },
   "outputs": [
    {
     "data": {
      "text/html": [
       "<div>\n",
       "<style scoped>\n",
       "    .dataframe tbody tr th:only-of-type {\n",
       "        vertical-align: middle;\n",
       "    }\n",
       "\n",
       "    .dataframe tbody tr th {\n",
       "        vertical-align: top;\n",
       "    }\n",
       "\n",
       "    .dataframe thead th {\n",
       "        text-align: right;\n",
       "    }\n",
       "</style>\n",
       "<table border=\"1\" class=\"dataframe\">\n",
       "  <thead>\n",
       "    <tr style=\"text-align: right;\">\n",
       "      <th></th>\n",
       "      <th>sequences</th>\n",
       "      <th>class</th>\n",
       "      <th>kmers</th>\n",
       "      <th>orfs</th>\n",
       "      <th>As</th>\n",
       "      <th>Cs</th>\n",
       "      <th>Gs</th>\n",
       "      <th>Ts</th>\n",
       "      <th>AA</th>\n",
       "      <th>AC</th>\n",
       "      <th>...</th>\n",
       "      <th>P</th>\n",
       "      <th>Q</th>\n",
       "      <th>R</th>\n",
       "      <th>S</th>\n",
       "      <th>T</th>\n",
       "      <th>V</th>\n",
       "      <th>W</th>\n",
       "      <th>Y</th>\n",
       "      <th>gc</th>\n",
       "      <th>meltT</th>\n",
       "    </tr>\n",
       "  </thead>\n",
       "  <tbody>\n",
       "    <tr>\n",
       "      <th>0</th>\n",
       "      <td>ccccccaccaccacca</td>\n",
       "      <td>0</td>\n",
       "      <td>ccccc ccccc cccca cccac ccacc cacca accac ccac...</td>\n",
       "      <td>[]</td>\n",
       "      <td>0.250</td>\n",
       "      <td>0.750000</td>\n",
       "      <td>0.000000</td>\n",
       "      <td>0.0</td>\n",
       "      <td>0.0</td>\n",
       "      <td>0.200000</td>\n",
       "      <td>...</td>\n",
       "      <td>0.4</td>\n",
       "      <td>0.0</td>\n",
       "      <td>0.0</td>\n",
       "      <td>0.0</td>\n",
       "      <td>0.6</td>\n",
       "      <td>0.0</td>\n",
       "      <td>0.0</td>\n",
       "      <td>0.0</td>\n",
       "      <td>75.0</td>\n",
       "      <td>54.581024</td>\n",
       "    </tr>\n",
       "    <tr>\n",
       "      <th>1</th>\n",
       "      <td>aggcccacccggcccc</td>\n",
       "      <td>0</td>\n",
       "      <td>aggcc ggccc gccca cccac ccacc caccc acccg cccg...</td>\n",
       "      <td>[]</td>\n",
       "      <td>0.125</td>\n",
       "      <td>0.625000</td>\n",
       "      <td>0.250000</td>\n",
       "      <td>0.0</td>\n",
       "      <td>0.0</td>\n",
       "      <td>0.066667</td>\n",
       "      <td>...</td>\n",
       "      <td>0.4</td>\n",
       "      <td>0.0</td>\n",
       "      <td>0.4</td>\n",
       "      <td>0.0</td>\n",
       "      <td>0.2</td>\n",
       "      <td>0.0</td>\n",
       "      <td>0.0</td>\n",
       "      <td>0.0</td>\n",
       "      <td>87.5</td>\n",
       "      <td>60.993016</td>\n",
       "    </tr>\n",
       "    <tr>\n",
       "      <th>2</th>\n",
       "      <td>ccccccaccaccacca</td>\n",
       "      <td>0</td>\n",
       "      <td>ccccc ccccc cccca cccac ccacc cacca accac ccac...</td>\n",
       "      <td>[]</td>\n",
       "      <td>0.250</td>\n",
       "      <td>0.750000</td>\n",
       "      <td>0.000000</td>\n",
       "      <td>0.0</td>\n",
       "      <td>0.0</td>\n",
       "      <td>0.200000</td>\n",
       "      <td>...</td>\n",
       "      <td>0.4</td>\n",
       "      <td>0.0</td>\n",
       "      <td>0.0</td>\n",
       "      <td>0.0</td>\n",
       "      <td>0.6</td>\n",
       "      <td>0.0</td>\n",
       "      <td>0.0</td>\n",
       "      <td>0.0</td>\n",
       "      <td>75.0</td>\n",
       "      <td>54.581024</td>\n",
       "    </tr>\n",
       "    <tr>\n",
       "      <th>3</th>\n",
       "      <td>aggcccacccggcccc</td>\n",
       "      <td>0</td>\n",
       "      <td>aggcc ggccc gccca cccac ccacc caccc acccg cccg...</td>\n",
       "      <td>[]</td>\n",
       "      <td>0.125</td>\n",
       "      <td>0.625000</td>\n",
       "      <td>0.250000</td>\n",
       "      <td>0.0</td>\n",
       "      <td>0.0</td>\n",
       "      <td>0.066667</td>\n",
       "      <td>...</td>\n",
       "      <td>0.4</td>\n",
       "      <td>0.0</td>\n",
       "      <td>0.4</td>\n",
       "      <td>0.0</td>\n",
       "      <td>0.2</td>\n",
       "      <td>0.0</td>\n",
       "      <td>0.0</td>\n",
       "      <td>0.0</td>\n",
       "      <td>87.5</td>\n",
       "      <td>60.993016</td>\n",
       "    </tr>\n",
       "    <tr>\n",
       "      <th>4</th>\n",
       "      <td>ccgggggggcccccggggg</td>\n",
       "      <td>0</td>\n",
       "      <td>ccggg cgggg ggggg ggggg ggggg ggggc gggcc ggcc...</td>\n",
       "      <td>[]</td>\n",
       "      <td>0.000</td>\n",
       "      <td>0.368421</td>\n",
       "      <td>0.631579</td>\n",
       "      <td>0.0</td>\n",
       "      <td>0.0</td>\n",
       "      <td>0.000000</td>\n",
       "      <td>...</td>\n",
       "      <td>0.5</td>\n",
       "      <td>0.0</td>\n",
       "      <td>0.0</td>\n",
       "      <td>0.0</td>\n",
       "      <td>0.0</td>\n",
       "      <td>0.0</td>\n",
       "      <td>0.0</td>\n",
       "      <td>0.0</td>\n",
       "      <td>100.0</td>\n",
       "      <td>70.434487</td>\n",
       "    </tr>\n",
       "  </tbody>\n",
       "</table>\n",
       "<p>5 rows × 111 columns</p>\n",
       "</div>"
      ],
      "text/plain": [
       "             sequences  class  \\\n",
       "0     ccccccaccaccacca      0   \n",
       "1     aggcccacccggcccc      0   \n",
       "2     ccccccaccaccacca      0   \n",
       "3     aggcccacccggcccc      0   \n",
       "4  ccgggggggcccccggggg      0   \n",
       "\n",
       "                                               kmers orfs     As        Cs  \\\n",
       "0  ccccc ccccc cccca cccac ccacc cacca accac ccac...   []  0.250  0.750000   \n",
       "1  aggcc ggccc gccca cccac ccacc caccc acccg cccg...   []  0.125  0.625000   \n",
       "2  ccccc ccccc cccca cccac ccacc cacca accac ccac...   []  0.250  0.750000   \n",
       "3  aggcc ggccc gccca cccac ccacc caccc acccg cccg...   []  0.125  0.625000   \n",
       "4  ccggg cgggg ggggg ggggg ggggg ggggc gggcc ggcc...   []  0.000  0.368421   \n",
       "\n",
       "         Gs   Ts   AA        AC  ...    P    Q    R    S    T    V    W    Y  \\\n",
       "0  0.000000  0.0  0.0  0.200000  ...  0.4  0.0  0.0  0.0  0.6  0.0  0.0  0.0   \n",
       "1  0.250000  0.0  0.0  0.066667  ...  0.4  0.0  0.4  0.0  0.2  0.0  0.0  0.0   \n",
       "2  0.000000  0.0  0.0  0.200000  ...  0.4  0.0  0.0  0.0  0.6  0.0  0.0  0.0   \n",
       "3  0.250000  0.0  0.0  0.066667  ...  0.4  0.0  0.4  0.0  0.2  0.0  0.0  0.0   \n",
       "4  0.631579  0.0  0.0  0.000000  ...  0.5  0.0  0.0  0.0  0.0  0.0  0.0  0.0   \n",
       "\n",
       "      gc      meltT  \n",
       "0   75.0  54.581024  \n",
       "1   87.5  60.993016  \n",
       "2   75.0  54.581024  \n",
       "3   87.5  60.993016  \n",
       "4  100.0  70.434487  \n",
       "\n",
       "[5 rows x 111 columns]"
      ]
     },
     "execution_count": 29,
     "metadata": {},
     "output_type": "execute_result"
    }
   ],
   "source": [
    "tumor_data.head()"
   ]
  },
  {
   "cell_type": "markdown",
   "id": "2733544c",
   "metadata": {},
   "source": [
    "###  2.3  Encoding"
   ]
  },
  {
   "cell_type": "code",
   "execution_count": 30,
   "id": "9d4fdc87",
   "metadata": {
    "execution": {
     "iopub.execute_input": "2023-03-19T16:52:23.514110Z",
     "iopub.status.busy": "2023-03-19T16:52:23.513571Z",
     "iopub.status.idle": "2023-03-19T16:52:26.491886Z",
     "shell.execute_reply": "2023-03-19T16:52:26.490444Z",
     "shell.execute_reply.started": "2023-03-19T16:52:23.514066Z"
    }
   },
   "outputs": [
    {
     "data": {
      "text/html": [
       "<div>\n",
       "<style scoped>\n",
       "    .dataframe tbody tr th:only-of-type {\n",
       "        vertical-align: middle;\n",
       "    }\n",
       "\n",
       "    .dataframe tbody tr th {\n",
       "        vertical-align: top;\n",
       "    }\n",
       "\n",
       "    .dataframe thead th {\n",
       "        text-align: right;\n",
       "    }\n",
       "</style>\n",
       "<table border=\"1\" class=\"dataframe\">\n",
       "  <thead>\n",
       "    <tr style=\"text-align: right;\">\n",
       "      <th></th>\n",
       "      <th>0</th>\n",
       "      <th>1</th>\n",
       "      <th>2</th>\n",
       "      <th>3</th>\n",
       "      <th>4</th>\n",
       "      <th>5</th>\n",
       "      <th>6</th>\n",
       "      <th>7</th>\n",
       "      <th>8</th>\n",
       "      <th>9</th>\n",
       "      <th>...</th>\n",
       "      <th>2956</th>\n",
       "      <th>2957</th>\n",
       "      <th>2958</th>\n",
       "      <th>2959</th>\n",
       "      <th>2960</th>\n",
       "      <th>2961</th>\n",
       "      <th>2962</th>\n",
       "      <th>2963</th>\n",
       "      <th>2964</th>\n",
       "      <th>2965</th>\n",
       "    </tr>\n",
       "  </thead>\n",
       "  <tbody>\n",
       "    <tr>\n",
       "      <th>0</th>\n",
       "      <td>0.0</td>\n",
       "      <td>0.0</td>\n",
       "      <td>0.0</td>\n",
       "      <td>0.0</td>\n",
       "      <td>0.0</td>\n",
       "      <td>0.0</td>\n",
       "      <td>0.0</td>\n",
       "      <td>0.0</td>\n",
       "      <td>0.0</td>\n",
       "      <td>0.0</td>\n",
       "      <td>...</td>\n",
       "      <td>0.0</td>\n",
       "      <td>0.0</td>\n",
       "      <td>0.0</td>\n",
       "      <td>0.0</td>\n",
       "      <td>0.0</td>\n",
       "      <td>0.0</td>\n",
       "      <td>0.0</td>\n",
       "      <td>0.0</td>\n",
       "      <td>0.0</td>\n",
       "      <td>0.0</td>\n",
       "    </tr>\n",
       "    <tr>\n",
       "      <th>1</th>\n",
       "      <td>0.0</td>\n",
       "      <td>0.0</td>\n",
       "      <td>0.0</td>\n",
       "      <td>0.0</td>\n",
       "      <td>0.0</td>\n",
       "      <td>0.0</td>\n",
       "      <td>0.0</td>\n",
       "      <td>0.0</td>\n",
       "      <td>0.0</td>\n",
       "      <td>0.0</td>\n",
       "      <td>...</td>\n",
       "      <td>0.0</td>\n",
       "      <td>0.0</td>\n",
       "      <td>0.0</td>\n",
       "      <td>0.0</td>\n",
       "      <td>0.0</td>\n",
       "      <td>0.0</td>\n",
       "      <td>0.0</td>\n",
       "      <td>0.0</td>\n",
       "      <td>0.0</td>\n",
       "      <td>0.0</td>\n",
       "    </tr>\n",
       "    <tr>\n",
       "      <th>2</th>\n",
       "      <td>0.0</td>\n",
       "      <td>0.0</td>\n",
       "      <td>0.0</td>\n",
       "      <td>0.0</td>\n",
       "      <td>0.0</td>\n",
       "      <td>0.0</td>\n",
       "      <td>0.0</td>\n",
       "      <td>0.0</td>\n",
       "      <td>0.0</td>\n",
       "      <td>0.0</td>\n",
       "      <td>...</td>\n",
       "      <td>0.0</td>\n",
       "      <td>0.0</td>\n",
       "      <td>0.0</td>\n",
       "      <td>0.0</td>\n",
       "      <td>0.0</td>\n",
       "      <td>0.0</td>\n",
       "      <td>0.0</td>\n",
       "      <td>0.0</td>\n",
       "      <td>0.0</td>\n",
       "      <td>0.0</td>\n",
       "    </tr>\n",
       "    <tr>\n",
       "      <th>3</th>\n",
       "      <td>0.0</td>\n",
       "      <td>0.0</td>\n",
       "      <td>0.0</td>\n",
       "      <td>0.0</td>\n",
       "      <td>0.0</td>\n",
       "      <td>0.0</td>\n",
       "      <td>0.0</td>\n",
       "      <td>0.0</td>\n",
       "      <td>0.0</td>\n",
       "      <td>0.0</td>\n",
       "      <td>...</td>\n",
       "      <td>0.0</td>\n",
       "      <td>0.0</td>\n",
       "      <td>0.0</td>\n",
       "      <td>0.0</td>\n",
       "      <td>0.0</td>\n",
       "      <td>0.0</td>\n",
       "      <td>0.0</td>\n",
       "      <td>0.0</td>\n",
       "      <td>0.0</td>\n",
       "      <td>0.0</td>\n",
       "    </tr>\n",
       "    <tr>\n",
       "      <th>4</th>\n",
       "      <td>0.0</td>\n",
       "      <td>0.0</td>\n",
       "      <td>0.0</td>\n",
       "      <td>0.0</td>\n",
       "      <td>0.0</td>\n",
       "      <td>0.0</td>\n",
       "      <td>0.0</td>\n",
       "      <td>0.0</td>\n",
       "      <td>0.0</td>\n",
       "      <td>0.0</td>\n",
       "      <td>...</td>\n",
       "      <td>0.0</td>\n",
       "      <td>0.0</td>\n",
       "      <td>0.0</td>\n",
       "      <td>0.0</td>\n",
       "      <td>0.0</td>\n",
       "      <td>0.0</td>\n",
       "      <td>0.0</td>\n",
       "      <td>0.0</td>\n",
       "      <td>0.0</td>\n",
       "      <td>0.0</td>\n",
       "    </tr>\n",
       "  </tbody>\n",
       "</table>\n",
       "<p>5 rows × 2966 columns</p>\n",
       "</div>"
      ],
      "text/plain": [
       "   0     1     2     3     4     5     6     7     8     9     ...  2956  \\\n",
       "0   0.0   0.0   0.0   0.0   0.0   0.0   0.0   0.0   0.0   0.0  ...   0.0   \n",
       "1   0.0   0.0   0.0   0.0   0.0   0.0   0.0   0.0   0.0   0.0  ...   0.0   \n",
       "2   0.0   0.0   0.0   0.0   0.0   0.0   0.0   0.0   0.0   0.0  ...   0.0   \n",
       "3   0.0   0.0   0.0   0.0   0.0   0.0   0.0   0.0   0.0   0.0  ...   0.0   \n",
       "4   0.0   0.0   0.0   0.0   0.0   0.0   0.0   0.0   0.0   0.0  ...   0.0   \n",
       "\n",
       "   2957  2958  2959  2960  2961  2962  2963  2964  2965  \n",
       "0   0.0   0.0   0.0   0.0   0.0   0.0   0.0   0.0   0.0  \n",
       "1   0.0   0.0   0.0   0.0   0.0   0.0   0.0   0.0   0.0  \n",
       "2   0.0   0.0   0.0   0.0   0.0   0.0   0.0   0.0   0.0  \n",
       "3   0.0   0.0   0.0   0.0   0.0   0.0   0.0   0.0   0.0  \n",
       "4   0.0   0.0   0.0   0.0   0.0   0.0   0.0   0.0   0.0  \n",
       "\n",
       "[5 rows x 2966 columns]"
      ]
     },
     "execution_count": 30,
     "metadata": {},
     "output_type": "execute_result"
    }
   ],
   "source": [
    "# encoding for kmers dataframe\n",
    "tfidf1 = TfidfVectorizer()\n",
    "X1 = pd.DataFrame(tfidf1.fit_transform(tumor_data['kmers']).toarray())\n",
    "X1.head()"
   ]
  },
  {
   "cell_type": "code",
   "execution_count": 31,
   "id": "b1cbd2cb",
   "metadata": {
    "execution": {
     "iopub.execute_input": "2023-03-19T16:52:28.074927Z",
     "iopub.status.busy": "2023-03-19T16:52:28.074509Z",
     "iopub.status.idle": "2023-03-19T16:52:29.805195Z",
     "shell.execute_reply": "2023-03-19T16:52:29.804044Z",
     "shell.execute_reply.started": "2023-03-19T16:52:28.074889Z"
    }
   },
   "outputs": [],
   "source": [
    "# keep those columns having greater than 10 unique values in samples\n",
    "nunique = X1.nunique()\n",
    "X1 = X1.drop(nunique[nunique <= 10].index, axis=1)"
   ]
  },
  {
   "cell_type": "code",
   "execution_count": 32,
   "id": "fa2c4e64",
   "metadata": {
    "execution": {
     "iopub.execute_input": "2023-03-19T16:52:29.817992Z",
     "iopub.status.busy": "2023-03-19T16:52:29.817505Z",
     "iopub.status.idle": "2023-03-19T16:52:30.116841Z",
     "shell.execute_reply": "2023-03-19T16:52:30.115625Z",
     "shell.execute_reply.started": "2023-03-19T16:52:29.817942Z"
    }
   },
   "outputs": [
    {
     "data": {
      "text/html": [
       "<div>\n",
       "<style scoped>\n",
       "    .dataframe tbody tr th:only-of-type {\n",
       "        vertical-align: middle;\n",
       "    }\n",
       "\n",
       "    .dataframe tbody tr th {\n",
       "        vertical-align: top;\n",
       "    }\n",
       "\n",
       "    .dataframe thead th {\n",
       "        text-align: right;\n",
       "    }\n",
       "</style>\n",
       "<table border=\"1\" class=\"dataframe\">\n",
       "  <thead>\n",
       "    <tr style=\"text-align: right;\">\n",
       "      <th></th>\n",
       "      <th>0</th>\n",
       "      <th>1</th>\n",
       "      <th>2</th>\n",
       "      <th>3</th>\n",
       "      <th>4</th>\n",
       "      <th>5</th>\n",
       "      <th>6</th>\n",
       "      <th>7</th>\n",
       "      <th>8</th>\n",
       "      <th>9</th>\n",
       "      <th>...</th>\n",
       "      <th>12381</th>\n",
       "      <th>12382</th>\n",
       "      <th>12383</th>\n",
       "      <th>12384</th>\n",
       "      <th>12385</th>\n",
       "      <th>12386</th>\n",
       "      <th>12387</th>\n",
       "      <th>12388</th>\n",
       "      <th>12389</th>\n",
       "      <th>12390</th>\n",
       "    </tr>\n",
       "  </thead>\n",
       "  <tbody>\n",
       "    <tr>\n",
       "      <th>0</th>\n",
       "      <td>0.000000</td>\n",
       "      <td>0.0</td>\n",
       "      <td>0.0</td>\n",
       "      <td>0.0</td>\n",
       "      <td>0.0</td>\n",
       "      <td>0.0</td>\n",
       "      <td>0.0</td>\n",
       "      <td>0.0</td>\n",
       "      <td>0.0</td>\n",
       "      <td>0.0</td>\n",
       "      <td>...</td>\n",
       "      <td>0.0</td>\n",
       "      <td>0.0</td>\n",
       "      <td>0.0</td>\n",
       "      <td>0.0</td>\n",
       "      <td>0.0</td>\n",
       "      <td>0.0</td>\n",
       "      <td>0.0</td>\n",
       "      <td>0.0</td>\n",
       "      <td>0.0</td>\n",
       "      <td>0.0</td>\n",
       "    </tr>\n",
       "    <tr>\n",
       "      <th>1</th>\n",
       "      <td>0.000000</td>\n",
       "      <td>0.0</td>\n",
       "      <td>0.0</td>\n",
       "      <td>0.0</td>\n",
       "      <td>0.0</td>\n",
       "      <td>0.0</td>\n",
       "      <td>0.0</td>\n",
       "      <td>0.0</td>\n",
       "      <td>0.0</td>\n",
       "      <td>0.0</td>\n",
       "      <td>...</td>\n",
       "      <td>0.0</td>\n",
       "      <td>0.0</td>\n",
       "      <td>0.0</td>\n",
       "      <td>0.0</td>\n",
       "      <td>0.0</td>\n",
       "      <td>0.0</td>\n",
       "      <td>0.0</td>\n",
       "      <td>0.0</td>\n",
       "      <td>0.0</td>\n",
       "      <td>0.0</td>\n",
       "    </tr>\n",
       "    <tr>\n",
       "      <th>2</th>\n",
       "      <td>0.000000</td>\n",
       "      <td>0.0</td>\n",
       "      <td>0.0</td>\n",
       "      <td>0.0</td>\n",
       "      <td>0.0</td>\n",
       "      <td>0.0</td>\n",
       "      <td>0.0</td>\n",
       "      <td>0.0</td>\n",
       "      <td>0.0</td>\n",
       "      <td>0.0</td>\n",
       "      <td>...</td>\n",
       "      <td>0.0</td>\n",
       "      <td>0.0</td>\n",
       "      <td>0.0</td>\n",
       "      <td>0.0</td>\n",
       "      <td>0.0</td>\n",
       "      <td>0.0</td>\n",
       "      <td>0.0</td>\n",
       "      <td>0.0</td>\n",
       "      <td>0.0</td>\n",
       "      <td>0.0</td>\n",
       "    </tr>\n",
       "    <tr>\n",
       "      <th>3</th>\n",
       "      <td>0.000000</td>\n",
       "      <td>0.0</td>\n",
       "      <td>0.0</td>\n",
       "      <td>0.0</td>\n",
       "      <td>0.0</td>\n",
       "      <td>0.0</td>\n",
       "      <td>0.0</td>\n",
       "      <td>0.0</td>\n",
       "      <td>0.0</td>\n",
       "      <td>0.0</td>\n",
       "      <td>...</td>\n",
       "      <td>0.0</td>\n",
       "      <td>0.0</td>\n",
       "      <td>0.0</td>\n",
       "      <td>0.0</td>\n",
       "      <td>0.0</td>\n",
       "      <td>0.0</td>\n",
       "      <td>0.0</td>\n",
       "      <td>0.0</td>\n",
       "      <td>0.0</td>\n",
       "      <td>0.0</td>\n",
       "    </tr>\n",
       "    <tr>\n",
       "      <th>4</th>\n",
       "      <td>0.000000</td>\n",
       "      <td>0.0</td>\n",
       "      <td>0.0</td>\n",
       "      <td>0.0</td>\n",
       "      <td>0.0</td>\n",
       "      <td>0.0</td>\n",
       "      <td>0.0</td>\n",
       "      <td>0.0</td>\n",
       "      <td>0.0</td>\n",
       "      <td>0.0</td>\n",
       "      <td>...</td>\n",
       "      <td>0.0</td>\n",
       "      <td>0.0</td>\n",
       "      <td>0.0</td>\n",
       "      <td>0.0</td>\n",
       "      <td>0.0</td>\n",
       "      <td>0.0</td>\n",
       "      <td>0.0</td>\n",
       "      <td>0.0</td>\n",
       "      <td>0.0</td>\n",
       "      <td>0.0</td>\n",
       "    </tr>\n",
       "    <tr>\n",
       "      <th>...</th>\n",
       "      <td>...</td>\n",
       "      <td>...</td>\n",
       "      <td>...</td>\n",
       "      <td>...</td>\n",
       "      <td>...</td>\n",
       "      <td>...</td>\n",
       "      <td>...</td>\n",
       "      <td>...</td>\n",
       "      <td>...</td>\n",
       "      <td>...</td>\n",
       "      <td>...</td>\n",
       "      <td>...</td>\n",
       "      <td>...</td>\n",
       "      <td>...</td>\n",
       "      <td>...</td>\n",
       "      <td>...</td>\n",
       "      <td>...</td>\n",
       "      <td>...</td>\n",
       "      <td>...</td>\n",
       "      <td>...</td>\n",
       "      <td>...</td>\n",
       "    </tr>\n",
       "    <tr>\n",
       "      <th>16315</th>\n",
       "      <td>0.331451</td>\n",
       "      <td>0.0</td>\n",
       "      <td>0.0</td>\n",
       "      <td>0.0</td>\n",
       "      <td>0.0</td>\n",
       "      <td>0.0</td>\n",
       "      <td>0.0</td>\n",
       "      <td>0.0</td>\n",
       "      <td>0.0</td>\n",
       "      <td>0.0</td>\n",
       "      <td>...</td>\n",
       "      <td>0.0</td>\n",
       "      <td>0.0</td>\n",
       "      <td>0.0</td>\n",
       "      <td>0.0</td>\n",
       "      <td>0.0</td>\n",
       "      <td>0.0</td>\n",
       "      <td>0.0</td>\n",
       "      <td>0.0</td>\n",
       "      <td>0.0</td>\n",
       "      <td>0.0</td>\n",
       "    </tr>\n",
       "    <tr>\n",
       "      <th>16316</th>\n",
       "      <td>0.000000</td>\n",
       "      <td>0.0</td>\n",
       "      <td>0.0</td>\n",
       "      <td>0.0</td>\n",
       "      <td>0.0</td>\n",
       "      <td>0.0</td>\n",
       "      <td>0.0</td>\n",
       "      <td>0.0</td>\n",
       "      <td>0.0</td>\n",
       "      <td>0.0</td>\n",
       "      <td>...</td>\n",
       "      <td>0.0</td>\n",
       "      <td>0.0</td>\n",
       "      <td>0.0</td>\n",
       "      <td>0.0</td>\n",
       "      <td>0.0</td>\n",
       "      <td>0.0</td>\n",
       "      <td>0.0</td>\n",
       "      <td>0.0</td>\n",
       "      <td>0.0</td>\n",
       "      <td>0.0</td>\n",
       "    </tr>\n",
       "    <tr>\n",
       "      <th>16317</th>\n",
       "      <td>0.000000</td>\n",
       "      <td>0.0</td>\n",
       "      <td>0.0</td>\n",
       "      <td>0.0</td>\n",
       "      <td>0.0</td>\n",
       "      <td>0.0</td>\n",
       "      <td>0.0</td>\n",
       "      <td>0.0</td>\n",
       "      <td>0.0</td>\n",
       "      <td>0.0</td>\n",
       "      <td>...</td>\n",
       "      <td>0.0</td>\n",
       "      <td>0.0</td>\n",
       "      <td>0.0</td>\n",
       "      <td>0.0</td>\n",
       "      <td>0.0</td>\n",
       "      <td>0.0</td>\n",
       "      <td>0.0</td>\n",
       "      <td>0.0</td>\n",
       "      <td>0.0</td>\n",
       "      <td>0.0</td>\n",
       "    </tr>\n",
       "    <tr>\n",
       "      <th>16318</th>\n",
       "      <td>0.000000</td>\n",
       "      <td>0.0</td>\n",
       "      <td>0.0</td>\n",
       "      <td>0.0</td>\n",
       "      <td>0.0</td>\n",
       "      <td>0.0</td>\n",
       "      <td>0.0</td>\n",
       "      <td>0.0</td>\n",
       "      <td>0.0</td>\n",
       "      <td>0.0</td>\n",
       "      <td>...</td>\n",
       "      <td>0.0</td>\n",
       "      <td>0.0</td>\n",
       "      <td>0.0</td>\n",
       "      <td>0.0</td>\n",
       "      <td>0.0</td>\n",
       "      <td>0.0</td>\n",
       "      <td>0.0</td>\n",
       "      <td>0.0</td>\n",
       "      <td>0.0</td>\n",
       "      <td>0.0</td>\n",
       "    </tr>\n",
       "    <tr>\n",
       "      <th>16319</th>\n",
       "      <td>0.000000</td>\n",
       "      <td>0.0</td>\n",
       "      <td>0.0</td>\n",
       "      <td>0.0</td>\n",
       "      <td>0.0</td>\n",
       "      <td>0.0</td>\n",
       "      <td>0.0</td>\n",
       "      <td>0.0</td>\n",
       "      <td>0.0</td>\n",
       "      <td>0.0</td>\n",
       "      <td>...</td>\n",
       "      <td>0.0</td>\n",
       "      <td>0.0</td>\n",
       "      <td>0.0</td>\n",
       "      <td>0.0</td>\n",
       "      <td>0.0</td>\n",
       "      <td>0.0</td>\n",
       "      <td>0.0</td>\n",
       "      <td>0.0</td>\n",
       "      <td>0.0</td>\n",
       "      <td>0.0</td>\n",
       "    </tr>\n",
       "  </tbody>\n",
       "</table>\n",
       "<p>16320 rows × 12391 columns</p>\n",
       "</div>"
      ],
      "text/plain": [
       "          0      1      2      3      4      5      6      7      8      \\\n",
       "0      0.000000    0.0    0.0    0.0    0.0    0.0    0.0    0.0    0.0   \n",
       "1      0.000000    0.0    0.0    0.0    0.0    0.0    0.0    0.0    0.0   \n",
       "2      0.000000    0.0    0.0    0.0    0.0    0.0    0.0    0.0    0.0   \n",
       "3      0.000000    0.0    0.0    0.0    0.0    0.0    0.0    0.0    0.0   \n",
       "4      0.000000    0.0    0.0    0.0    0.0    0.0    0.0    0.0    0.0   \n",
       "...         ...    ...    ...    ...    ...    ...    ...    ...    ...   \n",
       "16315  0.331451    0.0    0.0    0.0    0.0    0.0    0.0    0.0    0.0   \n",
       "16316  0.000000    0.0    0.0    0.0    0.0    0.0    0.0    0.0    0.0   \n",
       "16317  0.000000    0.0    0.0    0.0    0.0    0.0    0.0    0.0    0.0   \n",
       "16318  0.000000    0.0    0.0    0.0    0.0    0.0    0.0    0.0    0.0   \n",
       "16319  0.000000    0.0    0.0    0.0    0.0    0.0    0.0    0.0    0.0   \n",
       "\n",
       "       9      ...  12381  12382  12383  12384  12385  12386  12387  12388  \\\n",
       "0        0.0  ...    0.0    0.0    0.0    0.0    0.0    0.0    0.0    0.0   \n",
       "1        0.0  ...    0.0    0.0    0.0    0.0    0.0    0.0    0.0    0.0   \n",
       "2        0.0  ...    0.0    0.0    0.0    0.0    0.0    0.0    0.0    0.0   \n",
       "3        0.0  ...    0.0    0.0    0.0    0.0    0.0    0.0    0.0    0.0   \n",
       "4        0.0  ...    0.0    0.0    0.0    0.0    0.0    0.0    0.0    0.0   \n",
       "...      ...  ...    ...    ...    ...    ...    ...    ...    ...    ...   \n",
       "16315    0.0  ...    0.0    0.0    0.0    0.0    0.0    0.0    0.0    0.0   \n",
       "16316    0.0  ...    0.0    0.0    0.0    0.0    0.0    0.0    0.0    0.0   \n",
       "16317    0.0  ...    0.0    0.0    0.0    0.0    0.0    0.0    0.0    0.0   \n",
       "16318    0.0  ...    0.0    0.0    0.0    0.0    0.0    0.0    0.0    0.0   \n",
       "16319    0.0  ...    0.0    0.0    0.0    0.0    0.0    0.0    0.0    0.0   \n",
       "\n",
       "       12389  12390  \n",
       "0        0.0    0.0  \n",
       "1        0.0    0.0  \n",
       "2        0.0    0.0  \n",
       "3        0.0    0.0  \n",
       "4        0.0    0.0  \n",
       "...      ...    ...  \n",
       "16315    0.0    0.0  \n",
       "16316    0.0    0.0  \n",
       "16317    0.0    0.0  \n",
       "16318    0.0    0.0  \n",
       "16319    0.0    0.0  \n",
       "\n",
       "[16320 rows x 12391 columns]"
      ]
     },
     "execution_count": 32,
     "metadata": {},
     "output_type": "execute_result"
    }
   ],
   "source": [
    "# encoding for orfs dataframe\n",
    "tfidf2 = TfidfVectorizer()\n",
    "X2 = pd.DataFrame(tfidf2.fit_transform(map(\" \".join, tumor_data['orfs'])).toarray())\n",
    "X2"
   ]
  },
  {
   "cell_type": "code",
   "execution_count": 33,
   "id": "4068f900",
   "metadata": {
    "execution": {
     "iopub.execute_input": "2023-03-19T16:52:30.118695Z",
     "iopub.status.busy": "2023-03-19T16:52:30.118304Z",
     "iopub.status.idle": "2023-03-19T16:52:36.753711Z",
     "shell.execute_reply": "2023-03-19T16:52:36.752488Z",
     "shell.execute_reply.started": "2023-03-19T16:52:30.118658Z"
    }
   },
   "outputs": [
    {
     "data": {
      "text/html": [
       "<div>\n",
       "<style scoped>\n",
       "    .dataframe tbody tr th:only-of-type {\n",
       "        vertical-align: middle;\n",
       "    }\n",
       "\n",
       "    .dataframe tbody tr th {\n",
       "        vertical-align: top;\n",
       "    }\n",
       "\n",
       "    .dataframe thead th {\n",
       "        text-align: right;\n",
       "    }\n",
       "</style>\n",
       "<table border=\"1\" class=\"dataframe\">\n",
       "  <thead>\n",
       "    <tr style=\"text-align: right;\">\n",
       "      <th></th>\n",
       "      <th>0</th>\n",
       "      <th>1</th>\n",
       "      <th>488</th>\n",
       "      <th>1226</th>\n",
       "      <th>1683</th>\n",
       "      <th>1878</th>\n",
       "      <th>2479</th>\n",
       "      <th>2675</th>\n",
       "      <th>3022</th>\n",
       "      <th>3260</th>\n",
       "      <th>...</th>\n",
       "      <th>9399</th>\n",
       "      <th>9585</th>\n",
       "      <th>9865</th>\n",
       "      <th>10111</th>\n",
       "      <th>10539</th>\n",
       "      <th>10935</th>\n",
       "      <th>11166</th>\n",
       "      <th>11420</th>\n",
       "      <th>11627</th>\n",
       "      <th>11872</th>\n",
       "    </tr>\n",
       "  </thead>\n",
       "  <tbody>\n",
       "    <tr>\n",
       "      <th>0</th>\n",
       "      <td>0.000000</td>\n",
       "      <td>0.0</td>\n",
       "      <td>0.0</td>\n",
       "      <td>0.0</td>\n",
       "      <td>0.0</td>\n",
       "      <td>0.0</td>\n",
       "      <td>0.0</td>\n",
       "      <td>0.0</td>\n",
       "      <td>0.0</td>\n",
       "      <td>0.0</td>\n",
       "      <td>...</td>\n",
       "      <td>0.0</td>\n",
       "      <td>0.0</td>\n",
       "      <td>0.0</td>\n",
       "      <td>0.0</td>\n",
       "      <td>0.0</td>\n",
       "      <td>0.0</td>\n",
       "      <td>0.0</td>\n",
       "      <td>0.0</td>\n",
       "      <td>0.0</td>\n",
       "      <td>0.0</td>\n",
       "    </tr>\n",
       "    <tr>\n",
       "      <th>1</th>\n",
       "      <td>0.000000</td>\n",
       "      <td>0.0</td>\n",
       "      <td>0.0</td>\n",
       "      <td>0.0</td>\n",
       "      <td>0.0</td>\n",
       "      <td>0.0</td>\n",
       "      <td>0.0</td>\n",
       "      <td>0.0</td>\n",
       "      <td>0.0</td>\n",
       "      <td>0.0</td>\n",
       "      <td>...</td>\n",
       "      <td>0.0</td>\n",
       "      <td>0.0</td>\n",
       "      <td>0.0</td>\n",
       "      <td>0.0</td>\n",
       "      <td>0.0</td>\n",
       "      <td>0.0</td>\n",
       "      <td>0.0</td>\n",
       "      <td>0.0</td>\n",
       "      <td>0.0</td>\n",
       "      <td>0.0</td>\n",
       "    </tr>\n",
       "    <tr>\n",
       "      <th>2</th>\n",
       "      <td>0.000000</td>\n",
       "      <td>0.0</td>\n",
       "      <td>0.0</td>\n",
       "      <td>0.0</td>\n",
       "      <td>0.0</td>\n",
       "      <td>0.0</td>\n",
       "      <td>0.0</td>\n",
       "      <td>0.0</td>\n",
       "      <td>0.0</td>\n",
       "      <td>0.0</td>\n",
       "      <td>...</td>\n",
       "      <td>0.0</td>\n",
       "      <td>0.0</td>\n",
       "      <td>0.0</td>\n",
       "      <td>0.0</td>\n",
       "      <td>0.0</td>\n",
       "      <td>0.0</td>\n",
       "      <td>0.0</td>\n",
       "      <td>0.0</td>\n",
       "      <td>0.0</td>\n",
       "      <td>0.0</td>\n",
       "    </tr>\n",
       "    <tr>\n",
       "      <th>3</th>\n",
       "      <td>0.000000</td>\n",
       "      <td>0.0</td>\n",
       "      <td>0.0</td>\n",
       "      <td>0.0</td>\n",
       "      <td>0.0</td>\n",
       "      <td>0.0</td>\n",
       "      <td>0.0</td>\n",
       "      <td>0.0</td>\n",
       "      <td>0.0</td>\n",
       "      <td>0.0</td>\n",
       "      <td>...</td>\n",
       "      <td>0.0</td>\n",
       "      <td>0.0</td>\n",
       "      <td>0.0</td>\n",
       "      <td>0.0</td>\n",
       "      <td>0.0</td>\n",
       "      <td>0.0</td>\n",
       "      <td>0.0</td>\n",
       "      <td>0.0</td>\n",
       "      <td>0.0</td>\n",
       "      <td>0.0</td>\n",
       "    </tr>\n",
       "    <tr>\n",
       "      <th>4</th>\n",
       "      <td>0.000000</td>\n",
       "      <td>0.0</td>\n",
       "      <td>0.0</td>\n",
       "      <td>0.0</td>\n",
       "      <td>0.0</td>\n",
       "      <td>0.0</td>\n",
       "      <td>0.0</td>\n",
       "      <td>0.0</td>\n",
       "      <td>0.0</td>\n",
       "      <td>0.0</td>\n",
       "      <td>...</td>\n",
       "      <td>0.0</td>\n",
       "      <td>0.0</td>\n",
       "      <td>0.0</td>\n",
       "      <td>0.0</td>\n",
       "      <td>0.0</td>\n",
       "      <td>0.0</td>\n",
       "      <td>0.0</td>\n",
       "      <td>0.0</td>\n",
       "      <td>0.0</td>\n",
       "      <td>0.0</td>\n",
       "    </tr>\n",
       "    <tr>\n",
       "      <th>...</th>\n",
       "      <td>...</td>\n",
       "      <td>...</td>\n",
       "      <td>...</td>\n",
       "      <td>...</td>\n",
       "      <td>...</td>\n",
       "      <td>...</td>\n",
       "      <td>...</td>\n",
       "      <td>...</td>\n",
       "      <td>...</td>\n",
       "      <td>...</td>\n",
       "      <td>...</td>\n",
       "      <td>...</td>\n",
       "      <td>...</td>\n",
       "      <td>...</td>\n",
       "      <td>...</td>\n",
       "      <td>...</td>\n",
       "      <td>...</td>\n",
       "      <td>...</td>\n",
       "      <td>...</td>\n",
       "      <td>...</td>\n",
       "      <td>...</td>\n",
       "    </tr>\n",
       "    <tr>\n",
       "      <th>16315</th>\n",
       "      <td>0.331451</td>\n",
       "      <td>0.0</td>\n",
       "      <td>0.0</td>\n",
       "      <td>0.0</td>\n",
       "      <td>0.0</td>\n",
       "      <td>0.0</td>\n",
       "      <td>0.0</td>\n",
       "      <td>0.0</td>\n",
       "      <td>0.0</td>\n",
       "      <td>0.0</td>\n",
       "      <td>...</td>\n",
       "      <td>0.0</td>\n",
       "      <td>0.0</td>\n",
       "      <td>0.0</td>\n",
       "      <td>0.0</td>\n",
       "      <td>0.0</td>\n",
       "      <td>0.0</td>\n",
       "      <td>0.0</td>\n",
       "      <td>0.0</td>\n",
       "      <td>0.0</td>\n",
       "      <td>0.0</td>\n",
       "    </tr>\n",
       "    <tr>\n",
       "      <th>16316</th>\n",
       "      <td>0.000000</td>\n",
       "      <td>0.0</td>\n",
       "      <td>0.0</td>\n",
       "      <td>0.0</td>\n",
       "      <td>0.0</td>\n",
       "      <td>0.0</td>\n",
       "      <td>0.0</td>\n",
       "      <td>0.0</td>\n",
       "      <td>0.0</td>\n",
       "      <td>0.0</td>\n",
       "      <td>...</td>\n",
       "      <td>0.0</td>\n",
       "      <td>0.0</td>\n",
       "      <td>0.0</td>\n",
       "      <td>0.0</td>\n",
       "      <td>0.0</td>\n",
       "      <td>0.0</td>\n",
       "      <td>0.0</td>\n",
       "      <td>0.0</td>\n",
       "      <td>0.0</td>\n",
       "      <td>0.0</td>\n",
       "    </tr>\n",
       "    <tr>\n",
       "      <th>16317</th>\n",
       "      <td>0.000000</td>\n",
       "      <td>0.0</td>\n",
       "      <td>0.0</td>\n",
       "      <td>0.0</td>\n",
       "      <td>0.0</td>\n",
       "      <td>0.0</td>\n",
       "      <td>0.0</td>\n",
       "      <td>0.0</td>\n",
       "      <td>0.0</td>\n",
       "      <td>0.0</td>\n",
       "      <td>...</td>\n",
       "      <td>0.0</td>\n",
       "      <td>0.0</td>\n",
       "      <td>0.0</td>\n",
       "      <td>0.0</td>\n",
       "      <td>0.0</td>\n",
       "      <td>0.0</td>\n",
       "      <td>0.0</td>\n",
       "      <td>0.0</td>\n",
       "      <td>0.0</td>\n",
       "      <td>0.0</td>\n",
       "    </tr>\n",
       "    <tr>\n",
       "      <th>16318</th>\n",
       "      <td>0.000000</td>\n",
       "      <td>0.0</td>\n",
       "      <td>0.0</td>\n",
       "      <td>0.0</td>\n",
       "      <td>0.0</td>\n",
       "      <td>0.0</td>\n",
       "      <td>0.0</td>\n",
       "      <td>0.0</td>\n",
       "      <td>0.0</td>\n",
       "      <td>0.0</td>\n",
       "      <td>...</td>\n",
       "      <td>0.0</td>\n",
       "      <td>0.0</td>\n",
       "      <td>0.0</td>\n",
       "      <td>0.0</td>\n",
       "      <td>0.0</td>\n",
       "      <td>0.0</td>\n",
       "      <td>0.0</td>\n",
       "      <td>0.0</td>\n",
       "      <td>0.0</td>\n",
       "      <td>0.0</td>\n",
       "    </tr>\n",
       "    <tr>\n",
       "      <th>16319</th>\n",
       "      <td>0.000000</td>\n",
       "      <td>0.0</td>\n",
       "      <td>0.0</td>\n",
       "      <td>0.0</td>\n",
       "      <td>0.0</td>\n",
       "      <td>0.0</td>\n",
       "      <td>0.0</td>\n",
       "      <td>0.0</td>\n",
       "      <td>0.0</td>\n",
       "      <td>0.0</td>\n",
       "      <td>...</td>\n",
       "      <td>0.0</td>\n",
       "      <td>0.0</td>\n",
       "      <td>0.0</td>\n",
       "      <td>0.0</td>\n",
       "      <td>0.0</td>\n",
       "      <td>0.0</td>\n",
       "      <td>0.0</td>\n",
       "      <td>0.0</td>\n",
       "      <td>0.0</td>\n",
       "      <td>0.0</td>\n",
       "    </tr>\n",
       "  </tbody>\n",
       "</table>\n",
       "<p>16320 rows × 30 columns</p>\n",
       "</div>"
      ],
      "text/plain": [
       "          0      1      488    1226   1683   1878   2479   2675   3022   \\\n",
       "0      0.000000    0.0    0.0    0.0    0.0    0.0    0.0    0.0    0.0   \n",
       "1      0.000000    0.0    0.0    0.0    0.0    0.0    0.0    0.0    0.0   \n",
       "2      0.000000    0.0    0.0    0.0    0.0    0.0    0.0    0.0    0.0   \n",
       "3      0.000000    0.0    0.0    0.0    0.0    0.0    0.0    0.0    0.0   \n",
       "4      0.000000    0.0    0.0    0.0    0.0    0.0    0.0    0.0    0.0   \n",
       "...         ...    ...    ...    ...    ...    ...    ...    ...    ...   \n",
       "16315  0.331451    0.0    0.0    0.0    0.0    0.0    0.0    0.0    0.0   \n",
       "16316  0.000000    0.0    0.0    0.0    0.0    0.0    0.0    0.0    0.0   \n",
       "16317  0.000000    0.0    0.0    0.0    0.0    0.0    0.0    0.0    0.0   \n",
       "16318  0.000000    0.0    0.0    0.0    0.0    0.0    0.0    0.0    0.0   \n",
       "16319  0.000000    0.0    0.0    0.0    0.0    0.0    0.0    0.0    0.0   \n",
       "\n",
       "       3260   ...  9399   9585   9865   10111  10539  10935  11166  11420  \\\n",
       "0        0.0  ...    0.0    0.0    0.0    0.0    0.0    0.0    0.0    0.0   \n",
       "1        0.0  ...    0.0    0.0    0.0    0.0    0.0    0.0    0.0    0.0   \n",
       "2        0.0  ...    0.0    0.0    0.0    0.0    0.0    0.0    0.0    0.0   \n",
       "3        0.0  ...    0.0    0.0    0.0    0.0    0.0    0.0    0.0    0.0   \n",
       "4        0.0  ...    0.0    0.0    0.0    0.0    0.0    0.0    0.0    0.0   \n",
       "...      ...  ...    ...    ...    ...    ...    ...    ...    ...    ...   \n",
       "16315    0.0  ...    0.0    0.0    0.0    0.0    0.0    0.0    0.0    0.0   \n",
       "16316    0.0  ...    0.0    0.0    0.0    0.0    0.0    0.0    0.0    0.0   \n",
       "16317    0.0  ...    0.0    0.0    0.0    0.0    0.0    0.0    0.0    0.0   \n",
       "16318    0.0  ...    0.0    0.0    0.0    0.0    0.0    0.0    0.0    0.0   \n",
       "16319    0.0  ...    0.0    0.0    0.0    0.0    0.0    0.0    0.0    0.0   \n",
       "\n",
       "       11627  11872  \n",
       "0        0.0    0.0  \n",
       "1        0.0    0.0  \n",
       "2        0.0    0.0  \n",
       "3        0.0    0.0  \n",
       "4        0.0    0.0  \n",
       "...      ...    ...  \n",
       "16315    0.0    0.0  \n",
       "16316    0.0    0.0  \n",
       "16317    0.0    0.0  \n",
       "16318    0.0    0.0  \n",
       "16319    0.0    0.0  \n",
       "\n",
       "[16320 rows x 30 columns]"
      ]
     },
     "execution_count": 33,
     "metadata": {},
     "output_type": "execute_result"
    }
   ],
   "source": [
    "# keep those columns having greater than 10 unique values in samples\n",
    "nunique = X2.nunique()\n",
    "X2 = X2.drop(nunique[nunique <= 10].index, axis=1)\n",
    "X2"
   ]
  },
  {
   "cell_type": "code",
   "execution_count": 34,
   "id": "623ffe22",
   "metadata": {
    "execution": {
     "iopub.execute_input": "2023-03-19T16:52:36.765309Z",
     "iopub.status.busy": "2023-03-19T16:52:36.764476Z",
     "iopub.status.idle": "2023-03-19T16:52:37.081893Z",
     "shell.execute_reply": "2023-03-19T16:52:37.080534Z",
     "shell.execute_reply.started": "2023-03-19T16:52:36.765240Z"
    }
   },
   "outputs": [
    {
     "data": {
      "text/html": [
       "<div>\n",
       "<style scoped>\n",
       "    .dataframe tbody tr th:only-of-type {\n",
       "        vertical-align: middle;\n",
       "    }\n",
       "\n",
       "    .dataframe tbody tr th {\n",
       "        vertical-align: top;\n",
       "    }\n",
       "\n",
       "    .dataframe thead th {\n",
       "        text-align: right;\n",
       "    }\n",
       "</style>\n",
       "<table border=\"1\" class=\"dataframe\">\n",
       "  <thead>\n",
       "    <tr style=\"text-align: right;\">\n",
       "      <th></th>\n",
       "      <th>0</th>\n",
       "      <th>1</th>\n",
       "      <th>2</th>\n",
       "      <th>3</th>\n",
       "      <th>4</th>\n",
       "      <th>5</th>\n",
       "      <th>6</th>\n",
       "      <th>7</th>\n",
       "      <th>8</th>\n",
       "      <th>9</th>\n",
       "      <th>...</th>\n",
       "      <th>1565</th>\n",
       "      <th>1566</th>\n",
       "      <th>1567</th>\n",
       "      <th>1568</th>\n",
       "      <th>1569</th>\n",
       "      <th>1570</th>\n",
       "      <th>1571</th>\n",
       "      <th>1572</th>\n",
       "      <th>1573</th>\n",
       "      <th>1574</th>\n",
       "    </tr>\n",
       "  </thead>\n",
       "  <tbody>\n",
       "    <tr>\n",
       "      <th>0</th>\n",
       "      <td>0.0</td>\n",
       "      <td>0.0</td>\n",
       "      <td>0.0</td>\n",
       "      <td>0.0</td>\n",
       "      <td>0.0</td>\n",
       "      <td>0.0</td>\n",
       "      <td>0.0</td>\n",
       "      <td>0.0</td>\n",
       "      <td>0.0</td>\n",
       "      <td>0.0</td>\n",
       "      <td>...</td>\n",
       "      <td>0.0</td>\n",
       "      <td>0.0</td>\n",
       "      <td>0.0</td>\n",
       "      <td>0.0</td>\n",
       "      <td>0.0</td>\n",
       "      <td>0.0</td>\n",
       "      <td>0.0</td>\n",
       "      <td>0.0</td>\n",
       "      <td>0.0</td>\n",
       "      <td>0.0</td>\n",
       "    </tr>\n",
       "    <tr>\n",
       "      <th>1</th>\n",
       "      <td>0.0</td>\n",
       "      <td>0.0</td>\n",
       "      <td>0.0</td>\n",
       "      <td>0.0</td>\n",
       "      <td>0.0</td>\n",
       "      <td>0.0</td>\n",
       "      <td>0.0</td>\n",
       "      <td>0.0</td>\n",
       "      <td>0.0</td>\n",
       "      <td>0.0</td>\n",
       "      <td>...</td>\n",
       "      <td>0.0</td>\n",
       "      <td>0.0</td>\n",
       "      <td>0.0</td>\n",
       "      <td>0.0</td>\n",
       "      <td>0.0</td>\n",
       "      <td>0.0</td>\n",
       "      <td>0.0</td>\n",
       "      <td>0.0</td>\n",
       "      <td>0.0</td>\n",
       "      <td>0.0</td>\n",
       "    </tr>\n",
       "    <tr>\n",
       "      <th>2</th>\n",
       "      <td>0.0</td>\n",
       "      <td>0.0</td>\n",
       "      <td>0.0</td>\n",
       "      <td>0.0</td>\n",
       "      <td>0.0</td>\n",
       "      <td>0.0</td>\n",
       "      <td>0.0</td>\n",
       "      <td>0.0</td>\n",
       "      <td>0.0</td>\n",
       "      <td>0.0</td>\n",
       "      <td>...</td>\n",
       "      <td>0.0</td>\n",
       "      <td>0.0</td>\n",
       "      <td>0.0</td>\n",
       "      <td>0.0</td>\n",
       "      <td>0.0</td>\n",
       "      <td>0.0</td>\n",
       "      <td>0.0</td>\n",
       "      <td>0.0</td>\n",
       "      <td>0.0</td>\n",
       "      <td>0.0</td>\n",
       "    </tr>\n",
       "    <tr>\n",
       "      <th>3</th>\n",
       "      <td>0.0</td>\n",
       "      <td>0.0</td>\n",
       "      <td>0.0</td>\n",
       "      <td>0.0</td>\n",
       "      <td>0.0</td>\n",
       "      <td>0.0</td>\n",
       "      <td>0.0</td>\n",
       "      <td>0.0</td>\n",
       "      <td>0.0</td>\n",
       "      <td>0.0</td>\n",
       "      <td>...</td>\n",
       "      <td>0.0</td>\n",
       "      <td>0.0</td>\n",
       "      <td>0.0</td>\n",
       "      <td>0.0</td>\n",
       "      <td>0.0</td>\n",
       "      <td>0.0</td>\n",
       "      <td>0.0</td>\n",
       "      <td>0.0</td>\n",
       "      <td>0.0</td>\n",
       "      <td>0.0</td>\n",
       "    </tr>\n",
       "    <tr>\n",
       "      <th>4</th>\n",
       "      <td>0.0</td>\n",
       "      <td>0.0</td>\n",
       "      <td>0.0</td>\n",
       "      <td>0.0</td>\n",
       "      <td>0.0</td>\n",
       "      <td>0.0</td>\n",
       "      <td>0.0</td>\n",
       "      <td>0.0</td>\n",
       "      <td>0.0</td>\n",
       "      <td>0.0</td>\n",
       "      <td>...</td>\n",
       "      <td>0.0</td>\n",
       "      <td>0.0</td>\n",
       "      <td>0.0</td>\n",
       "      <td>0.0</td>\n",
       "      <td>0.0</td>\n",
       "      <td>0.0</td>\n",
       "      <td>0.0</td>\n",
       "      <td>0.0</td>\n",
       "      <td>0.0</td>\n",
       "      <td>0.0</td>\n",
       "    </tr>\n",
       "  </tbody>\n",
       "</table>\n",
       "<p>5 rows × 1575 columns</p>\n",
       "</div>"
      ],
      "text/plain": [
       "   0     1     2     3     4     5     6     7     8     9     ...  1565  \\\n",
       "0   0.0   0.0   0.0   0.0   0.0   0.0   0.0   0.0   0.0   0.0  ...   0.0   \n",
       "1   0.0   0.0   0.0   0.0   0.0   0.0   0.0   0.0   0.0   0.0  ...   0.0   \n",
       "2   0.0   0.0   0.0   0.0   0.0   0.0   0.0   0.0   0.0   0.0  ...   0.0   \n",
       "3   0.0   0.0   0.0   0.0   0.0   0.0   0.0   0.0   0.0   0.0  ...   0.0   \n",
       "4   0.0   0.0   0.0   0.0   0.0   0.0   0.0   0.0   0.0   0.0  ...   0.0   \n",
       "\n",
       "   1566  1567  1568  1569  1570  1571  1572  1573  1574  \n",
       "0   0.0   0.0   0.0   0.0   0.0   0.0   0.0   0.0   0.0  \n",
       "1   0.0   0.0   0.0   0.0   0.0   0.0   0.0   0.0   0.0  \n",
       "2   0.0   0.0   0.0   0.0   0.0   0.0   0.0   0.0   0.0  \n",
       "3   0.0   0.0   0.0   0.0   0.0   0.0   0.0   0.0   0.0  \n",
       "4   0.0   0.0   0.0   0.0   0.0   0.0   0.0   0.0   0.0  \n",
       "\n",
       "[5 rows x 1575 columns]"
      ]
     },
     "execution_count": 34,
     "metadata": {},
     "output_type": "execute_result"
    }
   ],
   "source": [
    "# add the two encoded dataframes together\n",
    "chunk_size = 2000\n",
    "chunks = []\n",
    "N = X1.shape[1] + X2.shape[1]\n",
    "for i in range(0, len(X1), chunk_size):\n",
    "    chunk1 = X1.iloc[i:i+chunk_size]\n",
    "    chunk2 = X2.iloc[i:i+chunk_size]\n",
    "    concat_chunk = pd.concat([chunk1, chunk2], axis=1)\n",
    "    chunks.append(concat_chunk)\n",
    "    \n",
    "X = pd.concat(chunks, axis=0)\n",
    "X.columns = range(N)\n",
    "X.head()"
   ]
  },
  {
   "cell_type": "code",
   "execution_count": 35,
   "id": "1efabdbc",
   "metadata": {
    "execution": {
     "iopub.execute_input": "2023-03-19T16:52:37.083753Z",
     "iopub.status.busy": "2023-03-19T16:52:37.083321Z",
     "iopub.status.idle": "2023-03-19T16:52:37.240243Z",
     "shell.execute_reply": "2023-03-19T16:52:37.238727Z",
     "shell.execute_reply.started": "2023-03-19T16:52:37.083720Z"
    }
   },
   "outputs": [
    {
     "data": {
      "text/html": [
       "<div>\n",
       "<style scoped>\n",
       "    .dataframe tbody tr th:only-of-type {\n",
       "        vertical-align: middle;\n",
       "    }\n",
       "\n",
       "    .dataframe tbody tr th {\n",
       "        vertical-align: top;\n",
       "    }\n",
       "\n",
       "    .dataframe thead th {\n",
       "        text-align: right;\n",
       "    }\n",
       "</style>\n",
       "<table border=\"1\" class=\"dataframe\">\n",
       "  <thead>\n",
       "    <tr style=\"text-align: right;\">\n",
       "      <th></th>\n",
       "      <th>0</th>\n",
       "      <th>1</th>\n",
       "      <th>2</th>\n",
       "      <th>3</th>\n",
       "      <th>4</th>\n",
       "      <th>5</th>\n",
       "      <th>6</th>\n",
       "      <th>7</th>\n",
       "      <th>8</th>\n",
       "      <th>9</th>\n",
       "      <th>...</th>\n",
       "      <th>TCG</th>\n",
       "      <th>TCT</th>\n",
       "      <th>TGA</th>\n",
       "      <th>TGC</th>\n",
       "      <th>TGG</th>\n",
       "      <th>TGT</th>\n",
       "      <th>TTA</th>\n",
       "      <th>TTC</th>\n",
       "      <th>TTG</th>\n",
       "      <th>TTT</th>\n",
       "    </tr>\n",
       "  </thead>\n",
       "  <tbody>\n",
       "    <tr>\n",
       "      <th>0</th>\n",
       "      <td>0.0</td>\n",
       "      <td>0.0</td>\n",
       "      <td>0.0</td>\n",
       "      <td>0.0</td>\n",
       "      <td>0.0</td>\n",
       "      <td>0.0</td>\n",
       "      <td>0.0</td>\n",
       "      <td>0.0</td>\n",
       "      <td>0.0</td>\n",
       "      <td>0.0</td>\n",
       "      <td>...</td>\n",
       "      <td>0.0</td>\n",
       "      <td>0.0</td>\n",
       "      <td>0.0</td>\n",
       "      <td>0.0</td>\n",
       "      <td>0.0</td>\n",
       "      <td>0.0</td>\n",
       "      <td>0.0</td>\n",
       "      <td>0.0</td>\n",
       "      <td>0.0</td>\n",
       "      <td>0.0</td>\n",
       "    </tr>\n",
       "    <tr>\n",
       "      <th>1</th>\n",
       "      <td>0.0</td>\n",
       "      <td>0.0</td>\n",
       "      <td>0.0</td>\n",
       "      <td>0.0</td>\n",
       "      <td>0.0</td>\n",
       "      <td>0.0</td>\n",
       "      <td>0.0</td>\n",
       "      <td>0.0</td>\n",
       "      <td>0.0</td>\n",
       "      <td>0.0</td>\n",
       "      <td>...</td>\n",
       "      <td>0.0</td>\n",
       "      <td>0.0</td>\n",
       "      <td>0.0</td>\n",
       "      <td>0.0</td>\n",
       "      <td>0.0</td>\n",
       "      <td>0.0</td>\n",
       "      <td>0.0</td>\n",
       "      <td>0.0</td>\n",
       "      <td>0.0</td>\n",
       "      <td>0.0</td>\n",
       "    </tr>\n",
       "    <tr>\n",
       "      <th>2</th>\n",
       "      <td>0.0</td>\n",
       "      <td>0.0</td>\n",
       "      <td>0.0</td>\n",
       "      <td>0.0</td>\n",
       "      <td>0.0</td>\n",
       "      <td>0.0</td>\n",
       "      <td>0.0</td>\n",
       "      <td>0.0</td>\n",
       "      <td>0.0</td>\n",
       "      <td>0.0</td>\n",
       "      <td>...</td>\n",
       "      <td>0.0</td>\n",
       "      <td>0.0</td>\n",
       "      <td>0.0</td>\n",
       "      <td>0.0</td>\n",
       "      <td>0.0</td>\n",
       "      <td>0.0</td>\n",
       "      <td>0.0</td>\n",
       "      <td>0.0</td>\n",
       "      <td>0.0</td>\n",
       "      <td>0.0</td>\n",
       "    </tr>\n",
       "    <tr>\n",
       "      <th>3</th>\n",
       "      <td>0.0</td>\n",
       "      <td>0.0</td>\n",
       "      <td>0.0</td>\n",
       "      <td>0.0</td>\n",
       "      <td>0.0</td>\n",
       "      <td>0.0</td>\n",
       "      <td>0.0</td>\n",
       "      <td>0.0</td>\n",
       "      <td>0.0</td>\n",
       "      <td>0.0</td>\n",
       "      <td>...</td>\n",
       "      <td>0.0</td>\n",
       "      <td>0.0</td>\n",
       "      <td>0.0</td>\n",
       "      <td>0.0</td>\n",
       "      <td>0.0</td>\n",
       "      <td>0.0</td>\n",
       "      <td>0.0</td>\n",
       "      <td>0.0</td>\n",
       "      <td>0.0</td>\n",
       "      <td>0.0</td>\n",
       "    </tr>\n",
       "    <tr>\n",
       "      <th>4</th>\n",
       "      <td>0.0</td>\n",
       "      <td>0.0</td>\n",
       "      <td>0.0</td>\n",
       "      <td>0.0</td>\n",
       "      <td>0.0</td>\n",
       "      <td>0.0</td>\n",
       "      <td>0.0</td>\n",
       "      <td>0.0</td>\n",
       "      <td>0.0</td>\n",
       "      <td>0.0</td>\n",
       "      <td>...</td>\n",
       "      <td>0.0</td>\n",
       "      <td>0.0</td>\n",
       "      <td>0.0</td>\n",
       "      <td>0.0</td>\n",
       "      <td>0.0</td>\n",
       "      <td>0.0</td>\n",
       "      <td>0.0</td>\n",
       "      <td>0.0</td>\n",
       "      <td>0.0</td>\n",
       "      <td>0.0</td>\n",
       "    </tr>\n",
       "  </tbody>\n",
       "</table>\n",
       "<p>5 rows × 1681 columns</p>\n",
       "</div>"
      ],
      "text/plain": [
       "     0    1    2    3    4    5    6    7    8    9  ...  TCG  TCT  TGA  TGC  \\\n",
       "0  0.0  0.0  0.0  0.0  0.0  0.0  0.0  0.0  0.0  0.0  ...  0.0  0.0  0.0  0.0   \n",
       "1  0.0  0.0  0.0  0.0  0.0  0.0  0.0  0.0  0.0  0.0  ...  0.0  0.0  0.0  0.0   \n",
       "2  0.0  0.0  0.0  0.0  0.0  0.0  0.0  0.0  0.0  0.0  ...  0.0  0.0  0.0  0.0   \n",
       "3  0.0  0.0  0.0  0.0  0.0  0.0  0.0  0.0  0.0  0.0  ...  0.0  0.0  0.0  0.0   \n",
       "4  0.0  0.0  0.0  0.0  0.0  0.0  0.0  0.0  0.0  0.0  ...  0.0  0.0  0.0  0.0   \n",
       "\n",
       "   TGG  TGT  TTA  TTC  TTG  TTT  \n",
       "0  0.0  0.0  0.0  0.0  0.0  0.0  \n",
       "1  0.0  0.0  0.0  0.0  0.0  0.0  \n",
       "2  0.0  0.0  0.0  0.0  0.0  0.0  \n",
       "3  0.0  0.0  0.0  0.0  0.0  0.0  \n",
       "4  0.0  0.0  0.0  0.0  0.0  0.0  \n",
       "\n",
       "[5 rows x 1681 columns]"
      ]
     },
     "execution_count": 35,
     "metadata": {},
     "output_type": "execute_result"
    }
   ],
   "source": [
    "# concat other features with the above dataframe\n",
    "cols = ['As','Cs','Gs','Ts','gc','meltT'] + aa + di_mers + tri_mers\n",
    "X = pd.concat([X, tumor_data[cols]], axis=1)\n",
    "X.head()"
   ]
  },
  {
   "cell_type": "code",
   "execution_count": null,
   "id": "0e68bfc2",
   "metadata": {},
   "outputs": [],
   "source": []
  },
  {
   "cell_type": "markdown",
   "id": "6d19e927",
   "metadata": {},
   "source": [
    "### 2.4  Dimensionality Reduction: PCA"
   ]
  },
  {
   "cell_type": "code",
   "execution_count": 36,
   "id": "8d0872bc",
   "metadata": {
    "execution": {
     "iopub.execute_input": "2023-03-19T16:52:37.242050Z",
     "iopub.status.busy": "2023-03-19T16:52:37.241675Z",
     "iopub.status.idle": "2023-03-19T16:52:39.734890Z",
     "shell.execute_reply": "2023-03-19T16:52:39.733763Z",
     "shell.execute_reply.started": "2023-03-19T16:52:37.242011Z"
    }
   },
   "outputs": [
    {
     "name": "stderr",
     "output_type": "stream",
     "text": [
      "/home/ikraminf/anaconda3/lib/python3.9/site-packages/sklearn/utils/validation.py:1688: FutureWarning: Feature names only support names that are all strings. Got feature names with dtypes: ['int', 'str']. An error will be raised in 1.2.\n",
      "  warnings.warn(\n"
     ]
    }
   ],
   "source": [
    "# Create PCA object with maximum number of components\n",
    "pca = PCA(n_components=50)\n",
    "\n",
    "# Fit PCA to the data\n",
    "X = pca.fit_transform(X)"
   ]
  },
  {
   "cell_type": "code",
   "execution_count": null,
   "id": "7677e315",
   "metadata": {},
   "outputs": [],
   "source": []
  },
  {
   "cell_type": "markdown",
   "id": "c9079ccc",
   "metadata": {},
   "source": [
    "### 2.5  Data Splitting"
   ]
  },
  {
   "cell_type": "code",
   "execution_count": 37,
   "id": "94b43440",
   "metadata": {
    "execution": {
     "iopub.execute_input": "2023-03-19T16:52:39.982594Z",
     "iopub.status.busy": "2023-03-19T16:52:39.982208Z",
     "iopub.status.idle": "2023-03-19T16:52:39.993356Z",
     "shell.execute_reply": "2023-03-19T16:52:39.992356Z",
     "shell.execute_reply.started": "2023-03-19T16:52:39.982558Z"
    }
   },
   "outputs": [],
   "source": [
    "X_train, X_test, y_train, y_test = train_test_split(X, tumor_data['class'], test_size=0.20, random_state=1)"
   ]
  },
  {
   "cell_type": "code",
   "execution_count": 38,
   "id": "333f3769",
   "metadata": {
    "execution": {
     "iopub.execute_input": "2023-03-19T16:52:39.995593Z",
     "iopub.status.busy": "2023-03-19T16:52:39.994584Z",
     "iopub.status.idle": "2023-03-19T16:52:40.004252Z",
     "shell.execute_reply": "2023-03-19T16:52:40.002961Z",
     "shell.execute_reply.started": "2023-03-19T16:52:39.995539Z"
    }
   },
   "outputs": [
    {
     "data": {
      "text/plain": [
       "array([[-1.26058587e+01, -2.70229017e+00, -2.44818683e-01, ...,\n",
       "         3.14184235e-02, -2.51135281e-02,  1.61708730e-02],\n",
       "       [ 1.27852269e+01, -1.21504108e+00, -4.55179439e-02, ...,\n",
       "         1.46276474e-02,  7.59835935e-03,  1.18044478e-02],\n",
       "       [ 2.36094947e+00, -2.08971514e+00, -1.96438686e-01, ...,\n",
       "        -1.78997952e-03, -6.60042784e-02, -2.68750263e-03],\n",
       "       ...,\n",
       "       [-1.97654007e+01, -1.44779180e+00, -2.52261940e-01, ...,\n",
       "        -3.01434926e-02, -7.20596617e-03, -3.52013831e-02],\n",
       "       [ 2.16825086e+01,  1.30425668e+00,  4.14899299e-02, ...,\n",
       "         7.46168904e-03, -2.08033097e-02,  3.20257525e-02],\n",
       "       [ 7.92975667e+00, -2.07349316e+00,  3.41737440e-01, ...,\n",
       "         2.19678538e-02,  2.49625158e-02,  4.82427320e-03]])"
      ]
     },
     "execution_count": 38,
     "metadata": {},
     "output_type": "execute_result"
    }
   ],
   "source": [
    "X_train"
   ]
  },
  {
   "cell_type": "code",
   "execution_count": 39,
   "id": "07a21769",
   "metadata": {},
   "outputs": [
    {
     "data": {
      "text/plain": [
       "array([[-4.78712851e+01,  3.25904597e+00,  1.34522738e+00, ...,\n",
       "        -6.97729674e-02,  9.41423937e-02, -7.52591922e-02],\n",
       "       [-3.84011160e+00, -1.20863649e+00,  3.99637594e-01, ...,\n",
       "        -1.11460951e-01,  1.98667408e-01,  5.99520647e-02],\n",
       "       [ 4.00279698e+00, -2.90791717e+00, -8.38903301e-02, ...,\n",
       "        -1.00840670e-02, -4.33700641e-02, -1.01490292e-03],\n",
       "       ...,\n",
       "       [-2.47808600e+01, -2.30327454e+00,  5.88826142e-01, ...,\n",
       "        -1.94732701e-02,  1.36376895e-02, -1.35515188e-04],\n",
       "       [ 1.32712027e+01, -3.73477488e+00, -8.04155951e-02, ...,\n",
       "         2.85624765e-02, -1.03987818e-02,  2.15677927e-02],\n",
       "       [ 1.32418468e+00, -2.12211481e+00, -1.63995771e-01, ...,\n",
       "         3.40508512e-02, -5.74815878e-02,  3.77324512e-03]])"
      ]
     },
     "execution_count": 39,
     "metadata": {},
     "output_type": "execute_result"
    }
   ],
   "source": [
    "X_test"
   ]
  },
  {
   "cell_type": "code",
   "execution_count": null,
   "id": "67035632",
   "metadata": {},
   "outputs": [],
   "source": []
  },
  {
   "cell_type": "markdown",
   "id": "b8f5dd80",
   "metadata": {},
   "source": [
    "### 2.6  Data Normalization"
   ]
  },
  {
   "cell_type": "code",
   "execution_count": 40,
   "id": "99ab85bc",
   "metadata": {
    "execution": {
     "iopub.execute_input": "2023-03-19T16:52:40.033768Z",
     "iopub.status.busy": "2023-03-19T16:52:40.033041Z",
     "iopub.status.idle": "2023-03-19T16:52:40.048712Z",
     "shell.execute_reply": "2023-03-19T16:52:40.047408Z",
     "shell.execute_reply.started": "2023-03-19T16:52:40.033728Z"
    }
   },
   "outputs": [],
   "source": [
    "from sklearn.preprocessing import StandardScaler\n",
    "\n",
    "scaler = StandardScaler()\n",
    "X_train = scaler.fit_transform(X_train)\n",
    "X_test = scaler.transform(X_test)"
   ]
  },
  {
   "cell_type": "code",
   "execution_count": 41,
   "id": "fbafe103",
   "metadata": {
    "execution": {
     "iopub.execute_input": "2023-03-19T17:00:17.553514Z",
     "iopub.status.busy": "2023-03-19T17:00:17.553055Z",
     "iopub.status.idle": "2023-03-19T17:00:17.562075Z",
     "shell.execute_reply": "2023-03-19T17:00:17.560691Z",
     "shell.execute_reply.started": "2023-03-19T17:00:17.553473Z"
    }
   },
   "outputs": [
    {
     "data": {
      "text/plain": [
       "array([[-0.96712702, -0.54088806, -0.91544591, ...,  0.65940128,\n",
       "        -0.53561425,  0.34251836],\n",
       "       [ 0.98690093, -0.24164519, -0.16179909, ...,  0.30469708,\n",
       "         0.16105381,  0.24953158],\n",
       "       [ 0.18467727, -0.41763452, -0.73249912, ..., -0.04212435,\n",
       "        -1.40646829, -0.05908698],\n",
       "       ...,\n",
       "       [-1.51810564, -0.28847594, -0.94359226, ..., -0.6410907 ,\n",
       "        -0.15423526, -0.75149805],\n",
       "       [ 1.6716112 ,  0.26525166,  0.16721729, ...,  0.15331662,\n",
       "        -0.44381913,  0.68016167],\n",
       "       [ 0.61323732, -0.41437057,  1.3025898 , ...,  0.45975853,\n",
       "         0.53085983,  0.10088275]])"
      ]
     },
     "execution_count": 41,
     "metadata": {},
     "output_type": "execute_result"
    }
   ],
   "source": [
    "X_train"
   ]
  },
  {
   "cell_type": "code",
   "execution_count": 42,
   "id": "d41ef019",
   "metadata": {
    "execution": {
     "iopub.execute_input": "2023-03-19T17:00:32.325345Z",
     "iopub.status.busy": "2023-03-19T17:00:32.324246Z",
     "iopub.status.idle": "2023-03-19T17:00:32.333509Z",
     "shell.execute_reply": "2023-03-19T17:00:32.332368Z",
     "shell.execute_reply.started": "2023-03-19T17:00:32.325296Z"
    },
    "papermill": {
     "duration": 6.92041,
     "end_time": "2022-07-03T08:53:29.015101",
     "exception": false,
     "start_time": "2022-07-03T08:53:22.094691",
     "status": "completed"
    },
    "tags": []
   },
   "outputs": [
    {
     "data": {
      "text/plain": [
       "array([[-3.68105703e+00,  6.58566239e-01,  5.09724208e+00, ...,\n",
       "        -1.47826111e+00,  2.00419001e+00, -1.60456358e+00],\n",
       "       [-2.92539292e-01, -2.40356550e-01,  1.52153664e+00, ...,\n",
       "        -2.35891740e+00,  4.23026879e+00,  1.27487652e+00],\n",
       "       [ 3.11029332e-01, -5.82261362e-01, -3.06902552e-01, ...,\n",
       "        -2.17336478e-01, -9.24425361e-01, -2.34675292e-02],\n",
       "       ...,\n",
       "       [-1.90408156e+00, -4.60603872e-01,  2.23694466e+00, ...,\n",
       "        -4.15682860e-01,  2.89673973e-01, -4.74021058e-03],\n",
       "       [ 1.02430029e+00, -7.48629774e-01, -2.93762997e-01, ...,\n",
       "         5.99069556e-01, -2.22232951e-01,  4.57450413e-01],\n",
       "       [ 1.04890713e-01, -4.24153516e-01, -6.09817689e-01, ...,\n",
       "         7.15011161e-01, -1.22495977e+00,  7.85002047e-02]])"
      ]
     },
     "execution_count": 42,
     "metadata": {},
     "output_type": "execute_result"
    }
   ],
   "source": [
    "X_test"
   ]
  },
  {
   "cell_type": "code",
   "execution_count": null,
   "id": "b0418bd4",
   "metadata": {
    "papermill": {
     "duration": 3.479383,
     "end_time": "2022-07-03T08:53:32.554586",
     "exception": false,
     "start_time": "2022-07-03T08:53:29.075203",
     "status": "completed"
    },
    "tags": []
   },
   "outputs": [],
   "source": []
  },
  {
   "cell_type": "markdown",
   "id": "3713aba9",
   "metadata": {},
   "source": [
    "## 3.  Building Model"
   ]
  },
  {
   "cell_type": "code",
   "execution_count": 43,
   "id": "5e9d4374",
   "metadata": {
    "execution": {
     "iopub.execute_input": "2023-03-19T16:57:10.484769Z",
     "iopub.status.busy": "2023-03-19T16:57:10.484371Z",
     "iopub.status.idle": "2023-03-19T16:57:30.143031Z",
     "shell.execute_reply": "2023-03-19T16:57:30.141477Z",
     "shell.execute_reply.started": "2023-03-19T16:57:10.484735Z"
    }
   },
   "outputs": [
    {
     "data": {
      "text/plain": [
       "RandomForestClassifier(class_weight='balanced', criterion='entropy',\n",
       "                       random_state=1)"
      ]
     },
     "execution_count": 43,
     "metadata": {},
     "output_type": "execute_result"
    }
   ],
   "source": [
    "clf = RandomForestClassifier(criterion=\"entropy\", class_weight=\"balanced\", random_state=1)\n",
    "clf.fit(X_train, y_train)"
   ]
  },
  {
   "cell_type": "code",
   "execution_count": 44,
   "id": "3b8b276d",
   "metadata": {
    "execution": {
     "iopub.execute_input": "2023-03-19T16:57:30.145364Z",
     "iopub.status.busy": "2023-03-19T16:57:30.144909Z",
     "iopub.status.idle": "2023-03-19T16:57:30.252505Z",
     "shell.execute_reply": "2023-03-19T16:57:30.251350Z",
     "shell.execute_reply.started": "2023-03-19T16:57:30.145257Z"
    },
    "papermill": {
     "duration": 0.010125,
     "end_time": "2022-07-03T08:53:32.687430",
     "exception": false,
     "start_time": "2022-07-03T08:53:32.677305",
     "status": "completed"
    },
    "tags": []
   },
   "outputs": [],
   "source": [
    "# you predicted from your transformed features\n",
    "y_pred = clf.predict(X_test)"
   ]
  },
  {
   "cell_type": "code",
   "execution_count": null,
   "id": "7a3e9e7e",
   "metadata": {},
   "outputs": [],
   "source": []
  },
  {
   "cell_type": "markdown",
   "id": "f0c0c89b",
   "metadata": {},
   "source": [
    "## 4.  Evaluating Model Performance"
   ]
  },
  {
   "cell_type": "code",
   "execution_count": 45,
   "id": "26a10cd7",
   "metadata": {
    "execution": {
     "iopub.execute_input": "2023-03-19T16:57:30.254990Z",
     "iopub.status.busy": "2023-03-19T16:57:30.253902Z",
     "iopub.status.idle": "2023-03-19T16:57:30.268566Z",
     "shell.execute_reply": "2023-03-19T16:57:30.267173Z",
     "shell.execute_reply.started": "2023-03-19T16:57:30.254949Z"
    },
    "papermill": {
     "duration": 0.010165,
     "end_time": "2022-07-03T08:53:32.708069",
     "exception": false,
     "start_time": "2022-07-03T08:53:32.697904",
     "status": "completed"
    },
    "tags": []
   },
   "outputs": [
    {
     "name": "stdout",
     "output_type": "stream",
     "text": [
      "accuracy = 0.706 \n",
      "precision = 0.710 \n",
      "recall = 0.706 \n",
      "f1 = 0.703\n"
     ]
    }
   ],
   "source": [
    "def get_metrics(y_test, y_predicted):\n",
    "    accuracy = accuracy_score(y_test, y_predicted)\n",
    "    precision = precision_score(y_test, y_predicted, average='weighted')\n",
    "    recall = recall_score(y_test, y_predicted, average='weighted')\n",
    "    f1 = f1_score(y_test, y_predicted, average='weighted')\n",
    "    return accuracy, precision, recall, f1\n",
    "\n",
    "accuracy, precision, recall, f1 = get_metrics(y_test, y_pred)\n",
    "print(\"accuracy = %.3f \\nprecision = %.3f \\nrecall = %.3f \\nf1 = %.3f\" %(accuracy, precision, recall, f1))"
   ]
  },
  {
   "cell_type": "code",
   "execution_count": null,
   "id": "c8dd4a47",
   "metadata": {
    "execution": {
     "iopub.execute_input": "2023-03-19T17:28:05.553475Z",
     "iopub.status.busy": "2023-03-19T17:28:05.553034Z",
     "iopub.status.idle": "2023-03-19T17:28:05.558825Z",
     "shell.execute_reply": "2023-03-19T17:28:05.557518Z",
     "shell.execute_reply.started": "2023-03-19T17:28:05.553435Z"
    }
   },
   "outputs": [],
   "source": []
  },
  {
   "cell_type": "code",
   "execution_count": 46,
   "id": "037a2feb",
   "metadata": {
    "execution": {
     "iopub.execute_input": "2023-03-19T17:35:40.965906Z",
     "iopub.status.busy": "2023-03-19T17:35:40.965425Z",
     "iopub.status.idle": "2023-03-19T17:35:40.982633Z",
     "shell.execute_reply": "2023-03-19T17:35:40.981347Z",
     "shell.execute_reply.started": "2023-03-19T17:35:40.965860Z"
    }
   },
   "outputs": [
    {
     "name": "stdout",
     "output_type": "stream",
     "text": [
      "              precision    recall  f1-score   support\n",
      "\n",
      "           0       0.87      0.76      0.81       715\n",
      "           1       0.65      0.54      0.59      1104\n",
      "           2       0.68      0.81      0.74      1445\n",
      "\n",
      "    accuracy                           0.71      3264\n",
      "   macro avg       0.73      0.70      0.71      3264\n",
      "weighted avg       0.71      0.71      0.70      3264\n",
      "\n"
     ]
    }
   ],
   "source": [
    "print(classification_report(y_test, y_pred))"
   ]
  },
  {
   "cell_type": "code",
   "execution_count": null,
   "id": "618920fa",
   "metadata": {},
   "outputs": [],
   "source": []
  },
  {
   "cell_type": "code",
   "execution_count": 47,
   "id": "3d1753c5",
   "metadata": {
    "execution": {
     "iopub.execute_input": "2023-03-19T17:24:01.464581Z",
     "iopub.status.busy": "2023-03-19T17:24:01.464100Z",
     "iopub.status.idle": "2023-03-19T17:24:01.707997Z",
     "shell.execute_reply": "2023-03-19T17:24:01.706679Z",
     "shell.execute_reply.started": "2023-03-19T17:24:01.464533Z"
    }
   },
   "outputs": [
    {
     "data": {
      "image/png": "[encoded data removed]",
      "text/plain": [
       "<Figure size 864x576 with 2 Axes>"
      ]
     },
     "metadata": {
      "needs_background": "light"
     },
     "output_type": "display_data"
    }
   ],
   "source": [
    "fig, ax = plt.subplots(figsize=(12, 8))\n",
    "cm = confusion_matrix(y_test, y_pred, labels=clf.classes_)\n",
    "disp = ConfusionMatrixDisplay(confusion_matrix=cm, display_labels=label.inverse_transform(clf.classes_))\n",
    "disp.plot(ax=ax)\n",
    "plt.show()"
   ]
  },
  {
   "cell_type": "code",
   "execution_count": 49,
   "id": "fc7d7901",
   "metadata": {},
   "outputs": [
    {
     "name": "stdout",
     "output_type": "stream",
     "text": [
      "Glioblastoma----Glioblastoma\n",
      "Metastatic----Metastatic\n",
      "Astrocytoma----Astrocytoma\n",
      "Metastatic----Metastatic\n",
      "Glioblastoma----Glioblastoma\n",
      "Glioblastoma----Glioblastoma\n",
      "Metastatic----Metastatic\n",
      "Astrocytoma----Astrocytoma\n",
      "Metastatic----Metastatic\n",
      "Glioblastoma\tMetastatic\n"
     ]
    }
   ],
   "source": [
    "for actual, pred in zip(label.inverse_transform(y_test)[:10], label.inverse_transform(y_pred)[:10]):\n",
    "    if actual == pred:\n",
    "        print(f\"{actual}----{pred}\")\n",
    "    else:\n",
    "        print(f\"{actual}\\t{pred}\")"
   ]
  },
  {
   "cell_type": "code",
   "execution_count": null,
   "id": "616e0866",
   "metadata": {},
   "outputs": [],
   "source": []
  },
  {
   "cell_type": "code",
   "execution_count": null,
   "id": "4f17e8f3",
   "metadata": {},
   "outputs": [],
   "source": []
  }
 ],
 "metadata": {
  "kernelspec": {
   "display_name": "Python 3 (ipykernel)",
   "language": "python",
   "name": "python3"
  },
  "language_info": {
   "codemirror_mode": {
    "name": "ipython",
    "version": 3
   },
   "file_extension": ".py",
   "mimetype": "text/x-python",
   "name": "python",
   "nbconvert_exporter": "python",
   "pygments_lexer": "ipython3",
   "version": "3.9.12"
  },
  "papermill": {
   "default_parameters": {},
   "duration": 120.482154,
   "end_time": "2022-07-03T08:53:33.863704",
   "environment_variables": {},
   "exception": null,
   "input_path": "__notebook__.ipynb",
   "output_path": "__notebook__.ipynb",
   "parameters": {},
   "start_time": "2022-07-03T08:51:33.381550",
   "version": "2.3.4"
  }
 },
 "nbformat": 4,
 "nbformat_minor": 5
}
